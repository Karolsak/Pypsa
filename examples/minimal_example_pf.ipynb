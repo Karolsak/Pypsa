{
 "cells": [
  {
   "cell_type": "markdown",
   "metadata": {},
   "source": [
    "# Minimal 3-node example of PyPSA power flow\n",
    "\n",
    "Available as a Jupyter notebook at <http://www.pypsa.org/examples/minimal_example_pf.ipynb>."
   ]
  },
  {
   "cell_type": "code",
   "execution_count": 1,
   "metadata": {},
   "outputs": [],
   "source": [
    "\n",
    "# make the code as Python 3 compatible as possible\n",
    "from __future__ import print_function, division\n",
    "import pypsa\n",
    "\n",
    "import numpy as np\n"
   ]
  },
  {
   "cell_type": "code",
   "execution_count": 2,
   "metadata": {
    "collapsed": true
   },
   "outputs": [],
   "source": [
    "network = pypsa.Network()"
   ]
  },
  {
   "cell_type": "code",
   "execution_count": 3,
   "metadata": {},
   "outputs": [],
   "source": [
    "#add three buses\n",
    "n_buses = 3\n",
    "\n",
    "for i in range(n_buses):\n",
    "    network.add(\"Bus\",\"My bus {}\".format(i),\n",
    "                v_nom=20.)"
   ]
  },
  {
   "cell_type": "code",
   "execution_count": 4,
   "metadata": {},
   "outputs": [
    {
     "name": "stdout",
     "output_type": "stream",
     "text": [
      "attribute  v_nom    x    y carrier  v_mag_pu_set  v_mag_pu_min  v_mag_pu_max  \\\n",
      "My bus 0    20.0  0.0  0.0      AC           1.0           0.0           inf   \n",
      "My bus 1    20.0  0.0  0.0      AC           1.0           0.0           inf   \n",
      "My bus 2    20.0  0.0  0.0      AC           1.0           0.0           inf   \n",
      "\n",
      "attribute control sub_network  \n",
      "My bus 0       PQ              \n",
      "My bus 1       PQ              \n",
      "My bus 2       PQ              \n"
     ]
    }
   ],
   "source": [
    "print(network.buses)"
   ]
  },
  {
   "cell_type": "code",
   "execution_count": 5,
   "metadata": {},
   "outputs": [],
   "source": [
    "#add three lines in a ring\n",
    "for i in range(n_buses):\n",
    "    network.add(\"Line\",\"My line {}\".format(i),\n",
    "                bus0=\"My bus {}\".format(i),\n",
    "                bus1=\"My bus {}\".format((i+1)%n_buses),\n",
    "                x=0.1,\n",
    "                r=0.01)"
   ]
  },
  {
   "cell_type": "code",
   "execution_count": 6,
   "metadata": {},
   "outputs": [
    {
     "name": "stdout",
     "output_type": "stream",
     "text": [
      "attribute      bus0      bus1 type    x     r    g    b  s_nom  \\\n",
      "My line 0  My bus 0  My bus 1       0.1  0.01  0.0  0.0    0.0   \n",
      "My line 1  My bus 1  My bus 2       0.1  0.01  0.0  0.0    0.0   \n",
      "My line 2  My bus 2  My bus 0       0.1  0.01  0.0  0.0    0.0   \n",
      "\n",
      "attribute s_nom_extendable  s_nom_min    ...      length  terrain_factor  \\\n",
      "My line 0            False        0.0    ...         0.0             1.0   \n",
      "My line 1            False        0.0    ...         0.0             1.0   \n",
      "My line 2            False        0.0    ...         0.0             1.0   \n",
      "\n",
      "attribute  v_ang_min  v_ang_max  sub_network  x_pu r_pu  g_pu  b_pu  s_nom_opt  \n",
      "My line 0       -inf        inf                0.0  0.0   0.0   0.0        0.0  \n",
      "My line 1       -inf        inf                0.0  0.0   0.0   0.0        0.0  \n",
      "My line 2       -inf        inf                0.0  0.0   0.0   0.0        0.0  \n",
      "\n",
      "[3 rows x 22 columns]\n"
     ]
    }
   ],
   "source": [
    "print(network.lines)"
   ]
  },
  {
   "cell_type": "code",
   "execution_count": 7,
   "metadata": {},
   "outputs": [],
   "source": [
    "#add a generator at bus 0\n",
    "network.add(\"Generator\",\"My gen\",\n",
    "            bus=\"My bus 0\",\n",
    "            p_set=100,\n",
    "            control=\"PQ\")"
   ]
  },
  {
   "cell_type": "code",
   "execution_count": 8,
   "metadata": {},
   "outputs": [
    {
     "name": "stdout",
     "output_type": "stream",
     "text": [
      "attribute       bus control  p_nom p_nom_extendable  p_nom_min  p_nom_max  \\\n",
      "My gen     My bus 0      PQ    0.0            False        0.0        inf   \n",
      "\n",
      "attribute  p_min_pu  p_max_pu  p_set  q_set  sign carrier  marginal_cost  \\\n",
      "My gen          0.0       1.0  100.0    0.0   1.0                    0.0   \n",
      "\n",
      "attribute  capital_cost  efficiency  p_nom_opt  \n",
      "My gen              0.0         1.0        0.0  \n"
     ]
    }
   ],
   "source": [
    "print(network.generators)"
   ]
  },
  {
   "cell_type": "code",
   "execution_count": 9,
   "metadata": {},
   "outputs": [
    {
     "name": "stdout",
     "output_type": "stream",
     "text": [
      "My gen    100.0\n",
      "Name: p_set, dtype: float64\n"
     ]
    }
   ],
   "source": [
    "print(network.generators.p_set)"
   ]
  },
  {
   "cell_type": "code",
   "execution_count": 10,
   "metadata": {},
   "outputs": [],
   "source": [
    "#add a load at bus 1\n",
    "network.add(\"Load\",\"My load\",\n",
    "            bus=\"My bus 1\",\n",
    "            p_set=100)"
   ]
  },
  {
   "cell_type": "code",
   "execution_count": 11,
   "metadata": {},
   "outputs": [
    {
     "name": "stdout",
     "output_type": "stream",
     "text": [
      "attribute       bus  p_set  q_set  sign\n",
      "My load    My bus 1  100.0    0.0  -1.0\n"
     ]
    }
   ],
   "source": [
    "print(network.loads)"
   ]
  },
  {
   "cell_type": "code",
   "execution_count": 12,
   "metadata": {},
   "outputs": [
    {
     "name": "stdout",
     "output_type": "stream",
     "text": [
      "My load    100.0\n",
      "Name: p_set, dtype: float64\n"
     ]
    }
   ],
   "source": [
    "print(network.loads.p_set)"
   ]
  },
  {
   "cell_type": "code",
   "execution_count": 19,
   "metadata": {
    "collapsed": true
   },
   "outputs": [],
   "source": [
    "network.loads.q_set = 100."
   ]
  },
  {
   "cell_type": "code",
   "execution_count": 20,
   "metadata": {},
   "outputs": [
    {
     "name": "stderr",
     "output_type": "stream",
     "text": [
      "INFO:pypsa.pf:Slack bus for sub-network 0 is My bus 0\n",
      "INFO:pypsa.pf:Performing non-linear load-flow on AC sub-network SubNetwork 0 for snapshots Index([u'now'], dtype='object')\n",
      "INFO:pypsa.pf:Newton-Raphson solved in 3 iterations with error of 0.000000 in 0.032982 seconds\n"
     ]
    }
   ],
   "source": [
    "#Do a Newton-Raphson power flow\n",
    "network.pf()"
   ]
  },
  {
   "cell_type": "code",
   "execution_count": 21,
   "metadata": {},
   "outputs": [
    {
     "name": "stdout",
     "output_type": "stream",
     "text": [
      "     My line 0  My line 1  My line 2\n",
      "now  66.897487 -33.333333 -33.391038\n"
     ]
    }
   ],
   "source": [
    "print(network.lines_t.p0)"
   ]
  },
  {
   "cell_type": "code",
   "execution_count": 22,
   "metadata": {},
   "outputs": [
    {
     "name": "stdout",
     "output_type": "stream",
     "text": [
      "     My bus 0  My bus 1  My bus 2\n",
      "now       0.0 -0.875939 -0.433813\n"
     ]
    }
   ],
   "source": [
    "print(network.buses_t.v_ang*180/np.pi)"
   ]
  },
  {
   "cell_type": "code",
   "execution_count": 23,
   "metadata": {},
   "outputs": [
    {
     "name": "stdout",
     "output_type": "stream",
     "text": [
      "     My bus 0  My bus 1  My bus 2\n",
      "now       1.0  0.981199   0.99057\n"
     ]
    }
   ],
   "source": [
    "print(network.buses_t.v_mag_pu)"
   ]
  }
 ],
 "metadata": {
  "kernelspec": {
   "display_name": "Python 3",
   "language": "python",
   "name": "python3"
  },
  "language_info": {
   "codemirror_mode": {
    "name": "ipython",
    "version": 3
   },
   "file_extension": ".py",
   "mimetype": "text/x-python",
   "name": "python",
   "nbconvert_exporter": "python",
   "pygments_lexer": "ipython3",
   "version": "3.6.9"
  }
 },
 "nbformat": 4,
 "nbformat_minor": 1
}
