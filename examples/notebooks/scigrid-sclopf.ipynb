{
 "cells": [
  {
   "cell_type": "markdown",
   "metadata": {},
   "source": [
    "# Security-Constrained LOPF with SciGRID\n",
    "\n",
    "This Jupyter Notebook is also available to download at: <http://www.pypsa.org/examples/scigrid-sclopf.ipynb>  and can be viewed as an HTML page at: <http://pypsa.org/examples/scigrid-sclopf.html>.\n",
    "\n",
    "In this example, the dispatch of generators is optimised using the security-constrained linear OPF, to guaranteed that no branches are overloaded by certain branch outages.\n",
    "\n",
    "The data files for this example are in the examples folder of the github repository: <https://github.com/PyPSA/PyPSA>.\n",
    "\n",
    "## Data sources and health warnings\n",
    "\n",
    "See the separate notebook at <http://www.pypsa.org/examples/add_load_gen_trafos_to_scigrid.ipynb>.\n"
   ]
  },
  {
   "cell_type": "code",
   "execution_count": null,
   "metadata": {},
   "outputs": [],
   "source": [
    "\n",
    "from __future__ import print_function, division, absolute_import\n",
    "\n",
    "import pypsa, os\n"
   ]
  },
  {
   "cell_type": "code",
   "execution_count": null,
   "metadata": {},
   "outputs": [],
   "source": [
    "csv_folder_name = \"../scigrid-de/scigrid-with-load-gen-trafos/\"\n",
    "\n",
    "network = pypsa.Network(csv_folder_name=csv_folder_name)\n"
   ]
  },
  {
   "cell_type": "code",
   "execution_count": null,
   "metadata": {},
   "outputs": [],
   "source": [
    "#There are some infeasibilities without line extensions                                                                                  \n",
    "for line_name in [\"316\",\"527\",\"602\"]:\n",
    "    network.lines.loc[line_name,\"s_nom\"] = 1200\n",
    "\n",
    "\n",
    "now = network.snapshots[0]"
   ]
  },
  {
   "cell_type": "code",
   "execution_count": null,
   "metadata": {},
   "outputs": [],
   "source": [
    "branch_outages = network.lines.index[:15]\n",
    "\n",
    "print(\"Performing security-constrained linear OPF:\")\n",
    "\n",
    "network.sclopf(now,branch_outages=branch_outages)\n",
    "print(\"Objective:\",network.objective)"
   ]
  },
  {
   "cell_type": "code",
   "execution_count": null,
   "metadata": {},
   "outputs": [],
   "source": [
    "\n",
    "\n",
    "#For the PF, set the P to the optimised P\n",
    "network.generators_t.p_set = network.generators_t.p_set.reindex(columns=network.generators.index)\n",
    "network.generators_t.p_set.loc[now] = network.generators_t.p.loc[now]\n",
    "network.storage_units_t.p_set = network.storage_units_t.p_set.reindex(columns=network.storage_units.index)\n",
    "network.storage_units_t.p_set.loc[now] = network.storage_units_t.p.loc[now]\n",
    "\n",
    "#Check no lines are overloaded with the linear contingency analysis\n",
    "\n",
    "p0_test = network.lpf_contingency(now,branch_outages=branch_outages)"
   ]
  },
  {
   "cell_type": "code",
   "execution_count": null,
   "metadata": {},
   "outputs": [],
   "source": [
    "p0_test"
   ]
  },
  {
   "cell_type": "code",
   "execution_count": null,
   "metadata": {},
   "outputs": [],
   "source": [
    "#check loading as per unit of s_nom in each contingency\n",
    "\n",
    "max_loading = abs(p0_test.divide(network.passive_branches().s_nom,axis=0)).describe().loc[\"max\"]\n",
    "\n",
    "print(max_loading)\n"
   ]
  },
  {
   "cell_type": "code",
   "execution_count": null,
   "metadata": {},
   "outputs": [],
   "source": [
    "import numpy as np\n",
    "np.testing.assert_array_almost_equal(max_loading,np.ones((len(max_loading))))"
   ]
  },
  {
   "cell_type": "code",
   "execution_count": null,
   "metadata": {},
   "outputs": [],
   "source": []
  }
 ],
 "metadata": {
  "kernelspec": {
   "display_name": "Python 3",
   "language": "python",
   "name": "python3"
  },
  "language_info": {
   "codemirror_mode": {
    "name": "ipython",
    "version": 3
   },
   "file_extension": ".py",
   "mimetype": "text/x-python",
   "name": "python",
   "nbconvert_exporter": "python",
   "pygments_lexer": "ipython3",
   "version": "3.7.6"
  }
 },
 "nbformat": 4,
 "nbformat_minor": 1
}
