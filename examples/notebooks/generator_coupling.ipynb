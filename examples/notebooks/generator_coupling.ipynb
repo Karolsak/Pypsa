{
 "cells": [
  {
   "cell_type": "markdown",
   "id": "d9391a85-f35e-431b-8965-92048ae73794",
   "metadata": {
    "noteable": {
     "cell_type": "markdown"
    }
   },
   "source": [
    "# Coupling Generators\n",
    "\n",
    "In power systems, power plants often produce multiple types of outputs. For example, an Open Cycle Gas Turbine (OCGT) power plant generates electricity and emits CO2. PyPSA allows you to model this using coupled generators, which directly relate to another generator in the network.\n",
    "\n",
    "In the following, we demonstrate how to represent such a power plant with multiple coupled generators. The example features an OCGT power plant, represented by an electrical generator (primary generator) and a coupled generator accounting for CO2 emissions (secondary generator)."
   ]
  },
  {
   "cell_type": "code",
   "execution_count": null,
   "id": "169886a5-5929-43f8-9fa3-907f948bbb37",
   "metadata": {
    "ExecuteTime": {
     "end_time": "2023-09-13T09:11:20.276380+00:00",
     "start_time": "2023-09-13T09:11:19.932224+00:00"
    },
    "noteable": {
     "cell_type": "code"
    }
   },
   "outputs": [],
   "source": [
    "import numpy as np\n",
    "import pypsa\n",
    "import matplotlib.pyplot as plt"
   ]
  },
  {
   "cell_type": "markdown",
   "id": "37c1baa5-fd00-416c-8b6b-a4af992e04cf",
   "metadata": {
    "noteable": {
     "cell_type": "markdown"
    }
   },
   "source": [
    "Let's start by creating a simple network with a single bus, a load, and a generator. We will use this as a base to add a coupled generator later."
   ]
  },
  {
   "cell_type": "code",
   "execution_count": null,
   "id": "2a6b32a4-d7d1-47be-822f-129ed686f742",
   "metadata": {
    "ExecuteTime": {
     "end_time": "2023-09-13T09:12:37.980446+00:00",
     "start_time": "2023-09-13T09:12:37.643528+00:00"
    },
    "noteable": {
     "cell_type": "code"
    }
   },
   "outputs": [],
   "source": [
    "# Create a new network with 3 snapshots\n",
    "n = pypsa.Network(snapshots=range(3))\n",
    "\n",
    "# Add a bus\n",
    "n.add(\"Bus\", \"electricity\", unit=\"MWh\", carrier=\"el\")\n",
    "\n",
    "# Add a non-constant load\n",
    "n.add(\"Load\", \"load\", bus=\"electricity\", p_set=[1.5, 2, 2.5])\n",
    "\n",
    "# Add an extendable primary OCGT generator with electrical output\n",
    "n.add(\n",
    "    \"Generator\",\n",
    "    \"OCGT\",\n",
    "    bus=\"electricity\",\n",
    "    p_nom=1,\n",
    "    p_nom_extendable=True,\n",
    "    marginal_cost=1,\n",
    ")"
   ]
  },
  {
   "cell_type": "markdown",
   "id": "3c7ffe73-1838-4ffe-8262-b614cb2d4be8",
   "metadata": {
    "noteable": {
     "cell_type": "markdown"
    }
   },
   "source": [
    "## Adding a Coupled Generator\n",
    "\n",
    "Now that we have a simple network, let's add a coupled generator to model CO2 emissions from the existing gas-fired power plant.\n",
    "\n",
    "We will introduce a new bus and a store specifically for tracking CO2 emissions and a new generator that is linked to the existing one. The coupling of the output is determined by a coupling coefficient. This coefficient indicates the ratio between the secondary generator (the one being coupled) and the primary generator (the existing one). In our example, this translates to the amount of CO2 produced per unit of electricity generated. Note that keeping the electrical generator as the primary generator simplifies the setup, as you can set all coefficients in units of MW$_{el}$, just like in order example to \n",
    "\n",
    "$$\n",
    "c = 0.6 \\frac{t_{CO2}}{MW_{el}}\n",
    "$$\n",
    "\n",
    "The attributes that we set for the coupled generator are`p_coupling`, which points to the primary generator, and `p_coupling_coeff`, which determines the coefficient."
   ]
  },
  {
   "cell_type": "code",
   "execution_count": null,
   "id": "050bf878-4fea-4a17-8779-b307c44c956d",
   "metadata": {
    "ExecuteTime": {
     "end_time": "2023-09-13T09:13:17.913197+00:00",
     "start_time": "2023-09-13T09:13:17.749991+00:00"
    },
    "noteable": {
     "cell_type": "code"
    }
   },
   "outputs": [],
   "source": [
    "# Add a new bus for CO2 emissions\n",
    "n.add(\"Bus\", \"co2\", carrier=\"co2\", unit=\"t\")\n",
    "\n",
    "# Define the coupling coefficient (600 kg emissions per 1 MWel output from ocgt)\n",
    "coeff = 0.6\n",
    "\n",
    "# Add a coupled generator for CO2 emissions\n",
    "n.add(\n",
    "    \"Generator\",\n",
    "    \"OCGT emission\",\n",
    "    bus=\"co2\",\n",
    "    p_coupling=\"OCGT\",\n",
    "    p_coupling_coeff=coeff,\n",
    "    p_nom=np.inf,\n",
    ")\n",
    "\n",
    "# Add a store for CO2 emissions\n",
    "n.add(\"Store\", \"co2 atmosphere\", bus=\"co2\", e_nom=10)"
   ]
  },
  {
   "cell_type": "markdown",
   "id": "7bfb280a-3ece-48f8-8649-8baadb067cb2",
   "metadata": {
    "noteable": {
     "cell_type": "markdown"
    }
   },
   "source": [
    "### Optimization and Results\n",
    "\n",
    "With the network and coupled generators set up, we can now proceed to optimize the network. The optimization will now consider both the electricity generation and the CO2 emissions.\n",
    "\n",
    "Let's run the optimization and examine the results."
   ]
  },
  {
   "cell_type": "code",
   "execution_count": null,
   "id": "44ccea66",
   "metadata": {
    "ExecuteTime": {
     "end_time": "2023-09-13T09:13:55.029268+00:00",
     "start_time": "2023-09-13T09:13:54.259420+00:00"
    },
    "noteable": {
     "cell_type": "code"
    }
   },
   "outputs": [],
   "source": [
    "n.optimize()"
   ]
  },
  {
   "cell_type": "markdown",
   "id": "73efdd49",
   "metadata": {},
   "source": [
    "Let's have a look at the power output:"
   ]
  },
  {
   "cell_type": "code",
   "execution_count": null,
   "id": "f6a66e20-86b6-405f-b324-68afbf84371a",
   "metadata": {
    "ExecuteTime": {
     "end_time": "2023-09-13T09:13:55.029268+00:00",
     "start_time": "2023-09-13T09:13:54.259420+00:00"
    },
    "noteable": {
     "cell_type": "code"
    }
   },
   "outputs": [],
   "source": [
    "n.generators_t.p"
   ]
  },
  {
   "cell_type": "markdown",
   "id": "be86bd2a",
   "metadata": {},
   "source": [
    "As you can see the ratio between CO$_2$ output and power output remains constant. Consequently the store at the CO$_2$ but fills up over time."
   ]
  },
  {
   "cell_type": "code",
   "execution_count": null,
   "id": "7c174df4-0768-44da-880d-c0147a535184",
   "metadata": {
    "ExecuteTime": {
     "end_time": "2023-09-13T09:14:06.381430+00:00",
     "start_time": "2023-09-13T09:14:05.903802+00:00"
    },
    "noteable": {
     "cell_type": "code"
    }
   },
   "outputs": [],
   "source": [
    "n.stores_t.e"
   ]
  },
  {
   "cell_type": "markdown",
   "id": "6e491fd7",
   "metadata": {},
   "source": [
    "## Adding more coupled generators\n",
    "\n",
    "Following this scheme of coupled generator dispatch, we can define arbitrarily complex systems of coupled generators that model multiple inputs and outputs simultaneously. In the following, we extend the setup to include a coupled generator that models the injection of natural gas into the power plant. We then add two more coupled, extensible generators that model the carbon capture and storage (CCS) process.\n",
    "\n",
    "Let's start with the raw gas input for the OCGT power plant. We start by adding a new bus with the carrier \"Gas\" along with a store representing the gas reserve. Then we add a generator \"OCGT gas\" which is coupled to the existing OCGT power plant. The coupling coefficient is set to the gas input per unit of electricity generated. The \"sign\" attribute of the new generator is -1, since it takes gas from the storage.  "
   ]
  },
  {
   "cell_type": "code",
   "execution_count": null,
   "id": "091f401a",
   "metadata": {},
   "outputs": [],
   "source": [
    "n.add(\"Bus\", \"gas\", carrier=\"gas\", unit=\"MWh\")\n",
    "n.add(\"Store\", \"gas\", bus=\"gas\", e_nom=12, e_initial=12)\n",
    "n.add(\n",
    "    \"Generator\",\n",
    "    \"OCGT gas\",\n",
    "    bus=\"gas\",\n",
    "    p_nom=np.inf,\n",
    "    sign=-1,\n",
    "    p_coupling=\"OCGT\",\n",
    "    p_coupling_coeff=2,\n",
    ")"
   ]
  },
  {
   "cell_type": "markdown",
   "id": "711f9ea0",
   "metadata": {},
   "source": [
    "Now, we are dealing with a Carbon Capture and Storage (CCS) process. Here’s a simple breakdown of our setup:\n",
    "\n",
    "We add two expandable generators: “OCGT cc” and “OCGT cs”.\n",
    "\n",
    "* “OCGT cc” is responsible for extracting CO2 from the exhaust gases of the power plant.\n",
    "* “OCGT cs” is in charge of storing the extracted CO2 in a storage unit named “co2 stored”.\n",
    "\n",
    "Let’s understand the relationships:\n",
    "\n",
    "* “OCGT cc” is connected to the emissions of the OCGT power plant. It has an upper limit, meaning it can only extract up to a certain amount of CO2 from the exhaust gases. Its \"sign\" attribute is -1, since it extracts co2 from the exhaust gas.\n",
    "* “OCGT cs” is directly linked to “OCGT cc”. This means whatever amount of CO2 is extracted by “OCGT cc” is the exact amount that “OCGT cs” will store.\n",
    "\n",
    "With this setup the optimizer can extend the CCS process to the optimal capacity. It will not exceed the capacity of the OCGT power plant, since the \"OCGT cc\" generator is directly coupled to the emissions of the OCGT power plant.\n",
    "\n",
    "By limiting the store capacity of the \"co2 atmosphere\" store, we force the optimization to find a balance between the CO2 emissions and the CCS process."
   ]
  },
  {
   "cell_type": "code",
   "execution_count": null,
   "id": "5d454c49",
   "metadata": {},
   "outputs": [],
   "source": [
    "n.add(\n",
    "    \"Generator\",\n",
    "    \"OCGT cc\",\n",
    "    bus=\"co2\",\n",
    "    p_coupling=\"OCGT\",\n",
    "    p_coupling_coeff=coeff,\n",
    "    p_coupling_sign=\"<=\",\n",
    "    p_nom_extendable=True,\n",
    "    capital_cost=1,\n",
    "    sign=-1,\n",
    ")\n",
    "\n",
    "n.add(\"Bus\", \"co2 stored\", carrier=\"co2\", unit=\"t\")\n",
    "n.add(\n",
    "    \"Generator\",\n",
    "    \"OCGT cs\",\n",
    "    bus=\"co2 stored\",\n",
    "    p_coupling=\"OCGT cc\",\n",
    "    p_nom=np.inf,\n",
    ")\n",
    "n.add(\"Store\", \"co2 stored\", bus=\"co2 stored\", e_nom=20)\n",
    "\n",
    "n.stores.loc[\"co2 atmosphere\", \"e_nom\"] = 2"
   ]
  },
  {
   "cell_type": "markdown",
   "id": "fc07a610",
   "metadata": {},
   "source": [
    "We optimize and analyze the results:"
   ]
  },
  {
   "cell_type": "code",
   "execution_count": null,
   "id": "833a7a4d",
   "metadata": {},
   "outputs": [],
   "source": [
    "n.optimize()"
   ]
  },
  {
   "cell_type": "code",
   "execution_count": null,
   "id": "7daee5e1",
   "metadata": {},
   "outputs": [],
   "source": [
    "def get_unit(df):\n",
    "    return \"[\" + df.bus.map(n.buses.unit) + \"$_{\" + df.bus.map(n.buses.carrier) + \"}$]\"\n",
    "\n",
    "\n",
    "def get_labels(df):\n",
    "    return df.index + \" \" + get_unit(df)"
   ]
  },
  {
   "cell_type": "code",
   "execution_count": null,
   "id": "83a69b61",
   "metadata": {},
   "outputs": [],
   "source": [
    "n.generators_t.p.plot.bar(title=\"Generator Input and Output\")\n",
    "plt.legend(get_labels(n.generators))\n",
    "plt.tight_layout()"
   ]
  },
  {
   "cell_type": "code",
   "execution_count": null,
   "id": "6d05eb86",
   "metadata": {},
   "outputs": [],
   "source": [
    "axes = n.stores_t.p.mul(-1).plot.bar(subplots=True)\n",
    "for ax, unit in zip(axes, get_unit(n.stores)):\n",
    "    ax.set_ylabel(\"Dispatch \" + unit)\n",
    "plt.tight_layout()"
   ]
  },
  {
   "cell_type": "code",
   "execution_count": null,
   "id": "bfa046da",
   "metadata": {},
   "outputs": [],
   "source": [
    "# plot the state of charge (SOC)\n",
    "axes = n.stores_t.e.plot.bar(subplots=True)\n",
    "for ax, unit in zip(axes, get_unit(n.stores)):\n",
    "    ax.set_ylabel(\"SOC \" + unit)\n",
    "plt.tight_layout()"
   ]
  }
 ],
 "metadata": {
  "kernel_info": {
   "name": "python3"
  },
  "kernelspec": {
   "display_name": "",
   "language": "python",
   "name": ""
  },
  "language_info": {
   "codemirror_mode": {
    "name": "ipython",
    "version": 3
   },
   "file_extension": ".py",
   "mimetype": "text/x-python",
   "name": "python",
   "nbconvert_exporter": "python",
   "pygments_lexer": "ipython3",
   "version": "3.11.3"
  },
  "noteable": {
   "last_delta_id": "6b6b1b97-206f-414c-9700-d334c43ec0cb"
  },
  "noteable-chatgpt": {
   "create_notebook": {
    "openai_conversation_id": "938c8895-1d0e-510d-9dc0-268bee18fa58",
    "openai_ephemeral_user_id": "c470824e-b96e-5d79-9733-fd451ea7b8fa",
    "openai_subdivision1_iso_code": "DE-HE"
   }
  },
  "nteract": {
   "version": "noteable@2.9.0"
  },
  "selected_hardware_size": "small"
 },
 "nbformat": 4,
 "nbformat_minor": 5
}
