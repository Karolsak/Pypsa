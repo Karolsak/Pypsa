{
 "cells": [
  {
   "attachments": {},
   "cell_type": "markdown",
   "metadata": {},
   "source": [
    "# Load Shedding, Shifting and Elastic Demand"
   ]
  },
  {
   "attachments": {},
   "cell_type": "markdown",
   "metadata": {},
   "source": [
    "This example is a simple illustration that aims to explain the use of load shedding, load shifting and elastic demand in PyPSA. The example is designed to simulate a single day of electrical consumption in a small network with solar generation, which could represent a single house or a small group of houses."
   ]
  },
  {
   "cell_type": "code",
   "execution_count": null,
   "metadata": {},
   "outputs": [],
   "source": [
    "import pypsa\n",
    "import matplotlib.pyplot as plt\n",
    "import numpy as np\n",
    "import pandas as pd"
   ]
  },
  {
   "attachments": {},
   "cell_type": "markdown",
   "metadata": {},
   "source": [
    "## Build example network\n",
    "\n",
    "First, let's start building a minimal example network for which we demonstrate the demand modelling cases.\n",
    "The example network is represented as single bus: \n",
    "- with one PV generator\n",
    "- and one baseload electricity demand profile\n",
    "- between 04:00 - 20:00"
   ]
  },
  {
   "cell_type": "code",
   "execution_count": null,
   "metadata": {},
   "outputs": [],
   "source": [
    "network = pypsa.Network()\n",
    "\n",
    "# Add a bus\n",
    "network.add(\"Bus\", \"My bus\")\n",
    "\n",
    "# Add fuel types\n",
    "network.add(\"Carrier\", \"solar\")\n",
    "network.add(\"Carrier\", \"load\")\n",
    "\n",
    "# Add snapshots to define considered time span\n",
    "network.set_snapshots(pd.date_range(\"2023-01-01 04:00\", \"2023-01-01 20:00\", freq=\"H\"))\n",
    "\n",
    "# Add solar generation\n",
    "pv_pu = [\n",
    "    0.0,\n",
    "    0.0,\n",
    "    0.0,\n",
    "    0.2,\n",
    "    0.4,\n",
    "    0.65,\n",
    "    0.85,\n",
    "    0.9,\n",
    "    0.85,\n",
    "    0.65,\n",
    "    0.4,\n",
    "    0.3,\n",
    "    0.2,\n",
    "    0.1,\n",
    "    0.0,\n",
    "    0.0,\n",
    "    0.0,\n",
    "]\n",
    "\n",
    "# Add solar generation\n",
    "network.add(\n",
    "    \"Generator\",\n",
    "    \"solar\",\n",
    "    bus=\"My bus\",\n",
    "    p_nom=0.4,\n",
    "    carrier=\"solar\",\n",
    "    p_max_pu=pv_pu,\n",
    "    marginal_cost=0.01,\n",
    ")\n",
    "\n",
    "# Add baseload\n",
    "load = pd.Series(0.2, index=range(17))  # constant baseload\n",
    "network.add(\"Load\", \"baseload\", bus=\"My bus\", p_set=load.values)"
   ]
  },
  {
   "attachments": {},
   "cell_type": "markdown",
   "metadata": {},
   "source": [
    "Plotting the minimal example network data, we can see that supply **cannot** equal demand at all time steps. This means that a stable grid operation is not possible."
   ]
  },
  {
   "cell_type": "code",
   "execution_count": null,
   "metadata": {},
   "outputs": [],
   "source": [
    "fig, ax = plt.subplots()\n",
    "\n",
    "(network.generators_t.p_max_pu * network.generators.p_nom).plot(ax=ax)\n",
    "network.loads_t.p_set.plot(ax=ax)\n",
    "\n",
    "ax.set_ylabel(\"Power (MW)\")\n",
    "ax.get_legend().set_title(\"\")"
   ]
  },
  {
   "attachments": {},
   "cell_type": "markdown",
   "metadata": {},
   "source": [
    "Trying to optimize this network without any possibility of achieving the energy balance at every time step will lead to a infeasible optimization."
   ]
  },
  {
   "cell_type": "code",
   "execution_count": null,
   "metadata": {},
   "outputs": [],
   "source": [
    "network.optimize()"
   ]
  },
  {
   "attachments": {},
   "cell_type": "markdown",
   "metadata": {},
   "source": [
    "## Load shedding"
   ]
  },
  {
   "attachments": {},
   "cell_type": "markdown",
   "metadata": {},
   "source": [
    "\"Load shedding\" in power networks often happens under extreme conditions, e.g. to prevent network faults. In models, we consider load shedding as extremely expensive and unconstrained generators that can practically decrease the demand to zero. Tip: Load shedding generators are often used to track-down infeasibilities from power shortages (as above) or too tight constraints."
   ]
  },
  {
   "cell_type": "code",
   "execution_count": null,
   "metadata": {},
   "outputs": [],
   "source": [
    "# Add load shedding as generator\n",
    "network.add(\n",
    "    \"Generator\",\n",
    "    \"load shedding\",\n",
    "    bus=\"My bus\",\n",
    "    p_nom=50,\n",
    "    carrier=\"load\",\n",
    "    marginal_cost=1e2,  # 100 €/MWh\n",
    ")"
   ]
  },
  {
   "attachments": {},
   "cell_type": "markdown",
   "metadata": {},
   "source": [
    "After adding load shedding, the optimization will pass as the nodal energy balance is fulfilled"
   ]
  },
  {
   "cell_type": "code",
   "execution_count": null,
   "metadata": {},
   "outputs": [],
   "source": [
    "network.optimize()"
   ]
  },
  {
   "attachments": {},
   "cell_type": "markdown",
   "metadata": {},
   "source": [
    "Looking at the optimization results, the mismatch is exactly compensated by load shedding."
   ]
  },
  {
   "cell_type": "code",
   "execution_count": null,
   "metadata": {},
   "outputs": [],
   "source": [
    "fig, ax = plt.subplots()\n",
    "\n",
    "network.generators_t.p.plot(ax=ax)\n",
    "network.loads_t.p.plot(ax=ax)\n",
    "\n",
    "ax.set_ylabel(\"Power (MW)\")\n",
    "ax.get_legend().set_title(\"\")"
   ]
  },
  {
   "attachments": {},
   "cell_type": "markdown",
   "metadata": {},
   "source": [
    "## Load shifting"
   ]
  },
  {
   "attachments": {},
   "cell_type": "markdown",
   "metadata": {},
   "source": [
    "\"Load shifting\" is often used to provide system benefits arising from demand side flexibility. Benfits can arise from shifting elecitricy from peak to off-peak hours e.g. with electric vehicles, data center, and many more. Below we implement smart thermostats that can shift **electric** heating demand from one to another period.\n",
    "\n",
    "For simplicity, we use for the load shifting implementation the PyPSA `StorageUnit` component. Another [example](https://github.com/PyPSA/247-cfe/blob/b4a1196537babb219ca9f22e3b836d7f89ae5b56/scripts/solve_network.py#L631-L684) exist using the PyPSA `Store`, `Link` and `Generator` components. "
   ]
  },
  {
   "cell_type": "code",
   "execution_count": null,
   "metadata": {},
   "outputs": [],
   "source": [
    "# add battery as carrier\n",
    "network.add(\"Carrier\", \"thermostat\")\n",
    "\n",
    "# add smart thermostat as storage unit\n",
    "network.add(\n",
    "    \"StorageUnit\",\n",
    "    \"smart thermostat\",\n",
    "    bus=\"My bus\",\n",
    "    p_nom=0,\n",
    "    carrier=\"heat\",\n",
    "    p_nom_extendable=True,\n",
    "    standing_loss=0.01,  # penalize if load shifting is not applied at the first instance of mismatch\n",
    "    cyclic_state_of_charge=True,\n",
    "    max_hours=6,\n",
    ")"
   ]
  },
  {
   "attachments": {},
   "cell_type": "markdown",
   "metadata": {},
   "source": [
    "### Let's solve and plot load shifting and shedding "
   ]
  },
  {
   "cell_type": "code",
   "execution_count": null,
   "metadata": {},
   "outputs": [],
   "source": [
    "network.optimize()"
   ]
  },
  {
   "cell_type": "code",
   "execution_count": null,
   "metadata": {},
   "outputs": [],
   "source": [
    "fig, ax = plt.subplots()\n",
    "\n",
    "network.generators_t.p.plot(ax=ax)\n",
    "network.storage_units_t.p.plot(ax=ax)\n",
    "network.loads_t.p.plot(ax=ax)\n",
    "\n",
    "ax.set_ylabel(\"Power (MW)\")\n",
    "ax.get_legend().set_title(\"\")"
   ]
  },
  {
   "attachments": {},
   "cell_type": "markdown",
   "metadata": {},
   "source": [
    "We can observe from the least cost solution the following:\n",
    "- The smart thermostat is increasing the demand during the peak solar generation, to save energy when there is a lack of supply\n",
    "- In the first and last hours of the day, load shedding is applied since there is not enough storage or generation available"
   ]
  },
  {
   "attachments": {},
   "cell_type": "markdown",
   "metadata": {},
   "source": [
    "## Elastic Demand"
   ]
  },
  {
   "attachments": {},
   "cell_type": "markdown",
   "metadata": {},
   "source": [
    "Demand is slightly \"elastic\", meaning consumers would use less energy if its too expensive, or would use more energy if its low costs. Think about yourself. Would you consume less energy if its 5 times more expensive than today? The elasticity of demand is usually nonlinear and highly depended on individuals. If you are interested to read more into this, [Labandeira et al. (2017)](https://doi.org/10.1016/j.enpol.2017.01.002) surveys 428 papers that use various econometric techniques to evaluate energy demand elasticity to price.\n",
    "\n",
    "We model elastic demand by:\n",
    "  - Quadratic programming implementation which avoids a sequential approach (see [here](https://github.com/PyPSA/PyPSA/issues/574))"
   ]
  },
  {
   "cell_type": "code",
   "execution_count": null,
   "metadata": {},
   "outputs": [],
   "source": [
    "network.remove(\"Generator\", \"load shedding\")\n",
    "network.remove(\"StorageUnit\", \"smart thermostat\")"
   ]
  },
  {
   "cell_type": "code",
   "execution_count": null,
   "metadata": {},
   "outputs": [],
   "source": [
    "elastic_intercept = 20  # change here to alter level of price elasticity\n",
    "network.add(\n",
    "    \"Generator\",\n",
    "    \"load reduction because of price elasticity\",\n",
    "    bus=\"My bus\",\n",
    "    p_nom=50,\n",
    "    carrier=\"load\",\n",
    "    marginal_cost_quadratic=(\n",
    "        elastic_intercept / (2 * load)\n",
    "    ).values,  # series of 50 €/MWh\n",
    ")\n",
    "\n",
    "# add baseload generator\n",
    "network.add(\n",
    "    \"Generator\",\n",
    "    \"baseload generator\",\n",
    "    bus=\"My bus\",\n",
    "    p_nom=0.3,\n",
    "    carrier=\"gas\",\n",
    "    marginal_cost_quadratic=100,  # 100 €/MWh  # QP formulation requires everywhere use of quadratic cost\n",
    ")\n",
    "\n",
    "network.optimize(solver_name=\"highs\")  # QP requires highs instead of default glpk"
   ]
  },
  {
   "cell_type": "code",
   "execution_count": null,
   "metadata": {},
   "outputs": [],
   "source": [
    "fig, ax = plt.subplots()\n",
    "network.generators_t.p.plot(ax=ax)\n",
    "network.loads_t.p.plot(ax=ax)\n",
    "ax2 = ax.twinx()\n",
    "network.buses_t.marginal_price.rename(columns={\"My bus\": \"electricity price\"}).plot(\n",
    "    ax=ax2, linestyle=\"--\"\n",
    ")\n",
    "ax.set_title(\"Elastic demand\")\n",
    "ax.set_ylabel(\"Power (MW)\")\n",
    "ax.get_legend().set_title(\"\")\n",
    "ax.legend(bbox_to_anchor=(1.1, 1))\n",
    "ax2.set_ylabel(\"Price (€/MWh)\")\n",
    "ax2.legend(bbox_to_anchor=(1.1, 0.7))"
   ]
  },
  {
   "attachments": {},
   "cell_type": "markdown",
   "metadata": {},
   "source": [
    "We can observe from the elastic demand the following:\n",
    "- The load reduction is higher the higher the shadow prices are (= elastic demand)"
   ]
  }
 ],
 "metadata": {
  "kernelspec": {
   "display_name": "",
   "language": "python",
   "name": ""
  },
  "language_info": {
   "codemirror_mode": {
    "name": "ipython",
    "version": 3
   },
   "file_extension": ".py",
   "mimetype": "text/x-python",
   "name": "python",
   "nbconvert_exporter": "python",
   "pygments_lexer": "ipython3",
   "version": "3.10.12"
  }
 },
 "nbformat": 4,
 "nbformat_minor": 4
}
