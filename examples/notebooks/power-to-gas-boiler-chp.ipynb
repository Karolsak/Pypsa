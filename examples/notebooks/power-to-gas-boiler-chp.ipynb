{
 "cells": [
  {
   "cell_type": "markdown",
   "metadata": {},
   "source": [
    "# Power to Gas Example with Optional Coupling to Heat Sector (via Boiler OR Combined-Heat-and-Power (CHP))\n",
    "\n",
    "A location has an electric, gas and heat bus. The primary source is wind power, which can be converted to gas. The gas can be stored to convert into electricity or heat (with either a boiler or a CHP)."
   ]
  },
  {
   "cell_type": "code",
   "execution_count": null,
   "metadata": {},
   "outputs": [],
   "source": [
    "import pypsa\n",
    "import pandas as pd\n",
    "\n",
    "from pyomo.environ import Constraint\n",
    "\n",
    "import numpy as np\n",
    "\n",
    "import matplotlib.pyplot as plt\n",
    "\n",
    "\n",
    "%matplotlib inline\n"
   ]
  },
  {
   "cell_type": "markdown",
   "metadata": {},
   "source": [
    "## Combined-Heat-and-Power (CHP) parameterisation"
   ]
  },
  {
   "cell_type": "code",
   "execution_count": null,
   "metadata": {},
   "outputs": [],
   "source": [
    "#follows http://www.ea-energianalyse.dk/reports/student-reports/integration_of_50_percent_wind%20power.pdf pages 35-6\n",
    "    \n",
    "#which follows http://www.sciencedirect.com/science/article/pii/030142159390282K\n",
    "    \n",
    "#ratio between max heat output and max electric output\n",
    "nom_r = 1.\n",
    "        \n",
    "#backpressure limit\n",
    "c_m = 0.75\n",
    "        \n",
    "#marginal loss for each additional generation of heat\n",
    "c_v = 0.15    "
   ]
  },
  {
   "cell_type": "code",
   "execution_count": null,
   "metadata": {},
   "outputs": [],
   "source": [
    "#Graph for the case that max heat output equals max electric output\n",
    "\n",
    "fig,ax = plt.subplots(1,1)\n",
    "\n",
    "fig.set_size_inches((7,7))\n",
    "\n",
    "t = 0.01\n",
    "\n",
    "ph = np.arange(0,1.0001,t)\n",
    "\n",
    "ax.plot(ph,c_m*ph)\n",
    "\n",
    "ax.set_xlabel(\"P_heat_out\")\n",
    "\n",
    "ax.set_ylabel(\"P_elec_out\")\n",
    "\n",
    "ax.grid(True)\n",
    "\n",
    "ax.set_xlim([0,1.1])\n",
    "ax.set_ylim([0,1.1])\n",
    "\n",
    "ax.text(0.1,0.7,\"Allowed output\",color=\"r\")\n",
    "\n",
    "ax.plot(ph,1-c_v*ph)\n",
    "\n",
    "for i in range(1,10):\n",
    "    k = 0.1*i\n",
    "    x = np.arange(0,k/(c_m+c_v),t)\n",
    "    ax.plot(x,k-c_v*x,color=\"g\",alpha=0.5)\n",
    "    \n",
    "ax.text(0.05,0.41,\"iso-fuel-lines\",color=\"g\",rotation=-7)\n",
    "\n",
    "ax.fill_between(ph,c_m*ph,1-c_v*ph,facecolor=\"r\",alpha=0.5)\n",
    "\n",
    "fig.tight_layout()\n",
    "\n",
    "if False:\n",
    "    fig.savefig(\"chp_feasible.pdf\",transparent=True)"
   ]
  },
  {
   "cell_type": "markdown",
   "metadata": {},
   "source": [
    "## Now do optimisation"
   ]
  },
  {
   "cell_type": "code",
   "execution_count": null,
   "metadata": {},
   "outputs": [],
   "source": [
    "heat = True\n",
    "chp = True\n",
    "\n",
    "\n",
    "network = pypsa.Network()\n",
    "\n",
    "network.set_snapshots(pd.date_range(\"2016-01-01 00:00\",\"2016-01-01 03:00\",freq=\"H\"))\n",
    "\n",
    "network.add(\"Bus\",\n",
    "            \"0\",\n",
    "            carrier=\"AC\")\n",
    "\n",
    "network.add(\"Bus\",\n",
    "            \"0 gas\",\n",
    "            carrier=\"gas\")\n",
    "\n",
    "network.add(\"Carrier\",\n",
    "            \"wind\")\n",
    "\n",
    "network.add(\"Carrier\",\n",
    "            \"gas\",\n",
    "            co2_emissions=0.2)\n",
    "\n",
    "network.add(\"GlobalConstraint\",\n",
    "            \"co2_limit\",\n",
    "            sense=\"<=\",\n",
    "            constant=0.)\n",
    "\n",
    "\n",
    "network.add(\"Generator\",\n",
    "            \"wind turbine\",\n",
    "            bus=\"0\",\n",
    "            carrier=\"wind\",\n",
    "            p_nom_extendable=True,\n",
    "            p_max_pu=[0.,0.2,0.7,0.4],\n",
    "            capital_cost=1000)\n",
    "\n",
    "network.add(\"Load\",\n",
    "            \"load\",\n",
    "            bus=\"0\",\n",
    "            p_set=5.)\n",
    "\n",
    "\n",
    "\n",
    "network.add(\"Link\",\n",
    "            \"P2G\",\n",
    "            bus0=\"0\",\n",
    "            bus1=\"0 gas\",\n",
    "            efficiency=0.6,\n",
    "            capital_cost=1000,\n",
    "            p_nom_extendable=True)\n",
    "\n",
    "network.add(\"Link\",\n",
    "            \"generator\",\n",
    "            bus0=\"0 gas\",\n",
    "            bus1=\"0\",\n",
    "            efficiency=0.468,\n",
    "            capital_cost=400,\n",
    "            p_nom_extendable=True)\n",
    "\n",
    "\n",
    "network.add(\"Store\",\n",
    "            \"gas depot\",\n",
    "            bus=\"0 gas\",\n",
    "            e_cyclic=True,\n",
    "            e_nom_extendable=True)\n",
    "\n",
    "\n",
    "if heat:\n",
    "    \n",
    "    network.add(\"Bus\",\n",
    "            \"0 heat\",\n",
    "            carrier=\"heat\")\n",
    "    \n",
    "    network.add(\"Carrier\",\n",
    "               \"heat\")\n",
    "\n",
    "    network.add(\"Load\",\n",
    "            \"heat load\",\n",
    "            bus=\"0 heat\",\n",
    "            p_set=10.)\n",
    "\n",
    "    network.add(\"Link\",\n",
    "            \"boiler\",\n",
    "            bus0=\"0 gas\",\n",
    "            bus1=\"0 heat\",\n",
    "            efficiency=0.9,\n",
    "            capital_cost=300,\n",
    "            p_nom_extendable=True)\n",
    "    \n",
    "    network.add(\"Store\",\n",
    "            \"water tank\",\n",
    "            bus=\"0 heat\",\n",
    "            e_cyclic=True,\n",
    "            e_nom_extendable=True)    \n",
    "\n",
    "\n",
    "if heat and chp:\n",
    "\n",
    "    #Guarantees ISO fuel lines, i.e. fuel consumption p_b0 + p_g0 = constant along p_g1 + c_v p_b1 = constant\n",
    "    network.links.at[\"boiler\",\"efficiency\"] = network.links.at[\"generator\",\"efficiency\"]/c_v\n",
    "    \n",
    "    def extra_functionality(network,snapshots):\n",
    "\n",
    "        #Guarantees heat output and electric output nominal powers are proportional\n",
    "        network.model.chp_nom = Constraint(rule=lambda model : network.links.at[\"generator\",\"efficiency\"]*nom_r*model.link_p_nom[\"generator\"] == network.links.at[\"boiler\",\"efficiency\"]*model.link_p_nom[\"boiler\"])\n",
    "\n",
    "        #Guarantees c_m p_b1  \\leq p_g1\n",
    "        def backpressure(model,snapshot):\n",
    "            return c_m*network.links.at[\"boiler\",\"efficiency\"]*model.link_p[\"boiler\",snapshot] <= network.links.at[\"generator\",\"efficiency\"]*model.link_p[\"generator\",snapshot] \n",
    "        \n",
    "        network.model.backpressure = Constraint(list(snapshots),rule=backpressure)\n",
    "        \n",
    "        #Guarantees p_g1 +c_v p_b1 \\leq p_g1_nom\n",
    "        def top_iso_fuel_line(model,snapshot):\n",
    "            return model.link_p[\"boiler\",snapshot] + model.link_p[\"generator\",snapshot] <= model.link_p_nom[\"generator\"]\n",
    "        \n",
    "        network.model.top_iso_fuel_line = Constraint(list(snapshots),rule=top_iso_fuel_line)\n",
    "        \n",
    "else:\n",
    "    extra_functionality = None"
   ]
  },
  {
   "cell_type": "code",
   "execution_count": null,
   "metadata": {},
   "outputs": [],
   "source": [
    "network.lopf(network.snapshots, extra_functionality=extra_functionality)\n",
    "print(\"Objective:\",network.objective)"
   ]
  },
  {
   "cell_type": "code",
   "execution_count": null,
   "metadata": {},
   "outputs": [],
   "source": [
    "network.loads_t.p"
   ]
  },
  {
   "cell_type": "code",
   "execution_count": null,
   "metadata": {},
   "outputs": [],
   "source": [
    "network.links.p_nom_opt"
   ]
  },
  {
   "cell_type": "code",
   "execution_count": null,
   "metadata": {},
   "outputs": [],
   "source": [
    "#CHP is dimensioned by the heat demand met in three hours when no wind\n",
    "4*10./3/network.links.at[\"boiler\",\"efficiency\"]"
   ]
  },
  {
   "cell_type": "code",
   "execution_count": null,
   "metadata": {},
   "outputs": [],
   "source": [
    "#elec is set by the heat demand\n",
    "28.490028*0.15"
   ]
  },
  {
   "cell_type": "code",
   "execution_count": null,
   "metadata": {},
   "outputs": [],
   "source": [
    "network.links_t[\"p0\"]"
   ]
  },
  {
   "cell_type": "code",
   "execution_count": null,
   "metadata": {},
   "outputs": [],
   "source": [
    "network.links_t[\"p1\"]"
   ]
  },
  {
   "cell_type": "code",
   "execution_count": null,
   "metadata": {},
   "outputs": [],
   "source": [
    "print(pd.DataFrame({attr: network.stores_t[attr][\"gas depot\"] for attr in [\"p\",\"e\"]}))"
   ]
  },
  {
   "cell_type": "code",
   "execution_count": null,
   "metadata": {},
   "outputs": [],
   "source": [
    "if heat:\n",
    "    print(pd.DataFrame({attr: network.stores_t[attr][\"water tank\"] for attr in [\"p\",\"e\"]}))\n",
    "    print(pd.DataFrame({attr: network.links_t[attr][\"boiler\"] for attr in [\"p0\",\"p1\"]}))"
   ]
  },
  {
   "cell_type": "code",
   "execution_count": null,
   "metadata": {},
   "outputs": [],
   "source": [
    "print(network.stores.loc[\"gas depot\"])"
   ]
  },
  {
   "cell_type": "code",
   "execution_count": null,
   "metadata": {},
   "outputs": [],
   "source": [
    "print(network.generators.loc[\"wind turbine\"])"
   ]
  },
  {
   "cell_type": "code",
   "execution_count": null,
   "metadata": {},
   "outputs": [],
   "source": [
    "print(network.links.p_nom_opt)"
   ]
  },
  {
   "cell_type": "code",
   "execution_count": null,
   "metadata": {},
   "outputs": [],
   "source": [
    "#Calculate the overall efficiency of the CHP\n",
    "\n",
    "eta_elec = network.links.at[\"generator\",\"efficiency\"]\n",
    "\n",
    "r = 1/c_m\n",
    "\n",
    "#P_h = r*P_e\n",
    "\n",
    "print((1+r)/((1/eta_elec)*(1+c_v*r)))"
   ]
  }
 ],
 "metadata": {
  "kernelspec": {
   "display_name": "Python 3",
   "language": "python",
   "name": "python3"
  },
  "language_info": {
   "codemirror_mode": {
    "name": "ipython",
    "version": 3
   },
   "file_extension": ".py",
   "mimetype": "text/x-python",
   "name": "python",
   "nbconvert_exporter": "python",
   "pygments_lexer": "ipython3",
   "version": "3.7.6"
  }
 },
 "nbformat": 4,
 "nbformat_minor": 1
}
