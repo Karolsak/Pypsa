{
 "cells": [
  {
   "cell_type": "markdown",
   "metadata": {},
   "source": [
    "# LOPF then non-linear power flow with SciGRID\n",
    "\n",
    "This Jupyter Notebook is also available to download at: <http://www.pypsa.org/examples/scigrid-lopf-then-pf.ipynb> and can be viewed as an HTML page at: <http://pypsa.org/examples/scigrid-lopf-then-pf.html>.\n",
    "\n",
    "In this example, the dispatch of generators is optimised using the linear OPF, then a non-linear power flow is run on the resulting dispatch.\n",
    "\n",
    "The data files for this example are in the examples folder of the github repository: <https://github.com/PyPSA/PyPSA>.\n",
    "\n",
    "## Data sources\n",
    "\n",
    "Grid: based on [SciGRID](http://scigrid.de/) Version 0.2 which is based on [OpenStreetMap](http://www.openstreetmap.org/).\n",
    "\n",
    "Load size and location: based on Landkreise (NUTS 3) GDP and population.\n",
    "\n",
    "Load time series: from ENTSO-E hourly data, scaled up uniformly by factor 1.12 (a simplification of the methodology in Schumacher, Hirth (2015)).\n",
    "\n",
    "Conventional power plant capacities and locations: BNetzA list.\n",
    "\n",
    "Wind and solar capacities and locations: EEG Stammdaten, based on  http://www.energymap.info/download.html, which represents capacities at the end of 2014. Units without PLZ are removed.\n",
    "\n",
    "Wind and solar time series: REatlas, Andresen et al, \"Validation of Danish wind time series from a new global renewable energy atlas for energy system analysis,\" Energy 93 (2015) 1074 - 1088.\n",
    "\n",
    "NB:\n",
    "\n",
    "All times in the dataset are UTC.\n",
    "\n",
    "Where SciGRID nodes have been split into 220kV and 380kV substations, all load and generation is attached to the 220kV substation.\n",
    "\n",
    "## Warnings\n",
    "\n",
    "This script and the data behind it are no longer supported. See https://github.com/PyPSA/pypsa-eur for a newer model that covers the whole of Europe.\n",
    "\n",
    "This dataset is ONLY intended to demonstrate the capabilities of PyPSA and is NOT (yet) accurate enough to be used for research purposes.\n",
    "\n",
    "Known problems include:\n",
    "\n",
    "i) Rough approximations have been made for missing grid data, e.g. 220kV-380kV transformers and connections between close sub-stations missing from OSM.\n",
    "\n",
    "ii) There appears to be some unexpected congestion in parts of the network, which may mean for example that the load attachment method (by Voronoi cell overlap with Landkreise) isn't working, particularly in regions with a high density of substations.\n",
    "\n",
    "iii) Attaching power plants to the nearest high voltage substation may not reflect reality.\n",
    "\n",
    "iv) There is no proper n-1 security in the calculations - this can either be simulated with a blanket e.g. 70% reduction in thermal limits (as done here) or a proper security constrained OPF (see e.g.  <http://www.pypsa.org/examples/scigrid-sclopf.ipynb>).\n",
    "\n",
    "v) The borders and neighbouring countries are not represented.\n",
    "\n",
    "vi) Hydroelectric power stations are not modelled accurately.\n",
    "\n",
    "viii) The marginal costs are illustrative, not accurate.\n",
    "\n",
    "ix) Only the first day of 2011 is in the github dataset, which is not representative. The full year of 2011 can be downloaded at <http://www.pypsa.org/examples/scigrid-with-load-gen-trafos-2011.zip>.\n",
    "\n",
    "x) The ENTSO-E total load for Germany may not be scaled correctly; it is scaled up uniformly by factor 1.12 (a simplification of the methodology in Schumacher, Hirth (2015), which suggests monthly factors).\n",
    "\n",
    "xi) Biomass from the EEG Stammdaten are not read in at the moment.\n",
    "\n",
    "xii) Power plant start up costs, ramping limits/costs, minimum loading rates are not considered.\n"
   ]
  },
  {
   "cell_type": "code",
   "execution_count": null,
   "metadata": {
    "jupyter": {
     "outputs_hidden": false
    }
   },
   "outputs": [],
   "source": [
    "#make the code as Python 3 compatible as possible\n",
    "from __future__ import print_function, division, absolute_import\n",
    "\n",
    "import pypsa\n",
    "\n",
    "import numpy as np\n",
    "\n",
    "import pandas as pd\n",
    "\n",
    "import os\n",
    "\n",
    "import matplotlib.pyplot as plt\n",
    "\n",
    "import cartopy.crs as ccrs\n",
    "\n",
    "%matplotlib inline"
   ]
  },
  {
   "cell_type": "code",
   "execution_count": null,
   "metadata": {
    "jupyter": {
     "outputs_hidden": false
    }
   },
   "outputs": [],
   "source": [
    "#You may have to adjust this path to where \n",
    "#you downloaded the github repository\n",
    "#https://github.com/PyPSA/PyPSA\n",
    "\n",
    "csv_folder_name = \"../scigrid-de/scigrid-with-load-gen-trafos/\"\n",
    "\n",
    "network = pypsa.Network(csv_folder_name=csv_folder_name)\n"
   ]
  },
  {
   "cell_type": "markdown",
   "metadata": {},
   "source": [
    "## Plot the distribution of the load and of generating tech"
   ]
  },
  {
   "cell_type": "code",
   "execution_count": null,
   "metadata": {
    "jupyter": {
     "outputs_hidden": false
    }
   },
   "outputs": [],
   "source": [
    "fig,ax = plt.subplots(1,1,subplot_kw={\"projection\":ccrs.PlateCarree()})\n",
    "\n",
    "fig.set_size_inches(9,9)\n",
    "\n",
    "load_distribution = network.loads_t.p_set.loc[network.snapshots[0]].groupby(network.loads.bus).sum()\n",
    "\n",
    "network.plot(bus_sizes=0.5*load_distribution,ax=ax,title=\"Load distribution\")"
   ]
  },
  {
   "cell_type": "code",
   "execution_count": null,
   "metadata": {},
   "outputs": [],
   "source": [
    "fig.tight_layout()\n",
    "#fig.savefig('load-distribution.png')"
   ]
  },
  {
   "cell_type": "code",
   "execution_count": null,
   "metadata": {
    "jupyter": {
     "outputs_hidden": false
    }
   },
   "outputs": [],
   "source": [
    "network.generators.groupby(\"carrier\")[\"p_nom\"].sum()"
   ]
  },
  {
   "cell_type": "code",
   "execution_count": null,
   "metadata": {
    "jupyter": {
     "outputs_hidden": false
    }
   },
   "outputs": [],
   "source": [
    "network.storage_units.groupby(\"carrier\")[\"p_nom\"].sum()"
   ]
  },
  {
   "cell_type": "code",
   "execution_count": null,
   "metadata": {
    "jupyter": {
     "outputs_hidden": false
    }
   },
   "outputs": [],
   "source": [
    "techs = [\"Gas\",\"Brown Coal\",\"Hard Coal\",\"Wind Offshore\",\"Wind Onshore\",\"Solar\"]\n",
    "\n",
    "n_graphs = len(techs)\n",
    "\n",
    "n_cols = 3\n",
    "\n",
    "if n_graphs % n_cols == 0:\n",
    "    n_rows = n_graphs // n_cols\n",
    "else:\n",
    "    n_rows = n_graphs // n_cols + 1\n",
    "\n",
    "    \n",
    "fig, axes = plt.subplots(nrows=n_rows, ncols=n_cols, subplot_kw={\"projection\":ccrs.PlateCarree()})\n",
    "\n",
    "size = 6\n",
    "\n",
    "fig.set_size_inches(size*n_cols,size*n_rows)\n",
    "\n",
    "for i,tech in enumerate(techs):\n",
    "    i_row = i // n_cols\n",
    "    i_col = i % n_cols\n",
    "    \n",
    "    ax = axes[i_row,i_col]\n",
    "    \n",
    "    gens = network.generators[network.generators.carrier == tech]\n",
    "    \n",
    "    gen_distribution = gens.groupby(\"bus\").sum()[\"p_nom\"].reindex(network.buses.index,fill_value=0.)\n",
    "    \n",
    "    network.plot(ax=ax,bus_sizes=0.2*gen_distribution)\n",
    "    \n",
    "    ax.set_title(tech)\n",
    "    \n",
    "    "
   ]
  },
  {
   "cell_type": "markdown",
   "metadata": {},
   "source": [
    "## Run Linear Optimal Power Flow on the first day of 2011"
   ]
  },
  {
   "cell_type": "code",
   "execution_count": null,
   "metadata": {
    "jupyter": {
     "outputs_hidden": false
    }
   },
   "outputs": [],
   "source": [
    "#to approximate n-1 security and allow room for reactive power flows,\n",
    "#don't allow any line to be loaded above 70% of their thermal rating\n",
    "\n",
    "contingency_factor = 0.7\n",
    "\n",
    "network.lines.s_max_pu = contingency_factor\n"
   ]
  },
  {
   "cell_type": "code",
   "execution_count": null,
   "metadata": {},
   "outputs": [],
   "source": [
    "#There are some infeasibilities without small extensions                                                                                 \n",
    "network.lines.loc[[\"316\",\"527\",\"602\"],\"s_nom\"] = 1715\n",
    "\n",
    "\n",
    "#the lines to extend to resolve infeasibilities can\n",
    "#be found by\n",
    "#uncommenting the lines below to allow the network to be extended\n",
    "\n",
    "#network.lines[\"s_nom_original\"] = network.lines.s_nom\n",
    "\n",
    "#network.lines.s_nom_extendable = True\n",
    "#network.lines.s_nom_min = network.lines.s_nom\n",
    "\n",
    "#Assume 450 EUR/MVA/km\n",
    "#network.lines.capital_cost = 450*network.lines.length"
   ]
  },
  {
   "cell_type": "code",
   "execution_count": null,
   "metadata": {
    "jupyter": {
     "outputs_hidden": false
    },
    "scrolled": true
   },
   "outputs": [],
   "source": [
    "group_size = 4\n",
    "\n",
    "solver_name = \"cbc\"\n",
    "\n",
    "print(\"Performing linear OPF for one day, {} snapshots at a time:\".format(group_size))\n",
    "\n",
    "network.storage_units.state_of_charge_initial = 0.\n",
    "\n",
    "for i in range(int(24/group_size)):\n",
    "    #set the initial state of charge based on previous round\n",
    "    if i>0:\n",
    "        network.storage_units.state_of_charge_initial = network.storage_units_t.state_of_charge.loc[network.snapshots[group_size*i-1]]\n",
    "    network.lopf(network.snapshots[group_size*i:group_size*i+group_size],\n",
    "                 solver_name=solver_name,\n",
    "                 keep_files=True)\n",
    "    #network.lines.s_nom = network.lines.s_nom_opt\n"
   ]
  },
  {
   "cell_type": "code",
   "execution_count": null,
   "metadata": {
    "jupyter": {
     "outputs_hidden": false
    }
   },
   "outputs": [],
   "source": [
    "#if lines are extended, look at which ones are bigger\n",
    "#network.lines[[\"s_nom_original\",\"s_nom\"]][abs(network.lines.s_nom - network.lines.s_nom_original) > 1]"
   ]
  },
  {
   "cell_type": "code",
   "execution_count": null,
   "metadata": {
    "jupyter": {
     "outputs_hidden": false
    }
   },
   "outputs": [],
   "source": [
    "p_by_carrier = network.generators_t.p.groupby(network.generators.carrier, axis=1).sum()"
   ]
  },
  {
   "cell_type": "code",
   "execution_count": null,
   "metadata": {
    "jupyter": {
     "outputs_hidden": false
    }
   },
   "outputs": [],
   "source": [
    "p_by_carrier.drop((p_by_carrier.max()[p_by_carrier.max() < 1700.]).index,axis=1,inplace=True)"
   ]
  },
  {
   "cell_type": "code",
   "execution_count": null,
   "metadata": {
    "jupyter": {
     "outputs_hidden": false
    }
   },
   "outputs": [],
   "source": [
    "p_by_carrier.columns"
   ]
  },
  {
   "cell_type": "code",
   "execution_count": null,
   "metadata": {
    "jupyter": {
     "outputs_hidden": false
    }
   },
   "outputs": [],
   "source": [
    "colors = {\"Brown Coal\" : \"brown\",\n",
    "          \"Hard Coal\" : \"k\",\n",
    "          \"Nuclear\" : \"r\",\n",
    "          \"Run of River\" : \"green\",\n",
    "          \"Wind Onshore\" : \"blue\",\n",
    "          \"Solar\" : \"yellow\",\n",
    "          \"Wind Offshore\" : \"cyan\",\n",
    "          \"Waste\" : \"orange\",\n",
    "          \"Gas\" : \"orange\"}\n",
    "#reorder\n",
    "cols = [\"Nuclear\",\"Run of River\",\"Brown Coal\",\"Hard Coal\",\"Gas\",\"Wind Offshore\",\"Wind Onshore\",\"Solar\"]\n",
    "p_by_carrier = p_by_carrier[cols]"
   ]
  },
  {
   "cell_type": "code",
   "execution_count": null,
   "metadata": {
    "jupyter": {
     "outputs_hidden": false
    }
   },
   "outputs": [],
   "source": [
    "fig,ax = plt.subplots(1,1)\n",
    "\n",
    "fig.set_size_inches(12,6)\n",
    "\n",
    "(p_by_carrier/1e3).plot(kind=\"area\",ax=ax,linewidth=4,colors=[colors[col] for col in p_by_carrier.columns])\n",
    "\n",
    "\n",
    "ax.legend(ncol=4,loc=\"upper left\")\n",
    "\n",
    "ax.set_ylabel(\"GW\")\n",
    "\n",
    "ax.set_xlabel(\"\")"
   ]
  },
  {
   "cell_type": "code",
   "execution_count": null,
   "metadata": {},
   "outputs": [],
   "source": [
    "fig.tight_layout()\n",
    "#fig.savefig(\"stacked-gen.png\")"
   ]
  },
  {
   "cell_type": "code",
   "execution_count": null,
   "metadata": {
    "jupyter": {
     "outputs_hidden": false
    }
   },
   "outputs": [],
   "source": [
    "fig,ax = plt.subplots(1,1)\n",
    "fig.set_size_inches(12,6)\n",
    "\n",
    "p_storage = network.storage_units_t.p.sum(axis=1)\n",
    "state_of_charge = network.storage_units_t.state_of_charge.sum(axis=1)\n",
    "p_storage.plot(label=\"Pumped hydro dispatch\",ax=ax,linewidth=3)\n",
    "state_of_charge.plot(label=\"State of charge\",ax=ax,linewidth=3)\n",
    "\n",
    "ax.legend()\n",
    "ax.grid()\n",
    "ax.set_ylabel(\"MWh\")\n",
    "ax.set_xlabel(\"\")"
   ]
  },
  {
   "cell_type": "code",
   "execution_count": null,
   "metadata": {},
   "outputs": [],
   "source": [
    "fig.tight_layout()\n",
    "#fig.savefig(\"storage-scigrid.png\")"
   ]
  },
  {
   "cell_type": "code",
   "execution_count": null,
   "metadata": {},
   "outputs": [],
   "source": [
    "now = network.snapshots[4]"
   ]
  },
  {
   "cell_type": "code",
   "execution_count": null,
   "metadata": {
    "jupyter": {
     "outputs_hidden": false
    }
   },
   "outputs": [],
   "source": [
    "print(\"With the linear load flow, there is the following per unit loading:\")\n",
    "loading = network.lines_t.p0.loc[now]/network.lines.s_nom\n",
    "print(loading.describe())"
   ]
  },
  {
   "cell_type": "code",
   "execution_count": null,
   "metadata": {
    "jupyter": {
     "outputs_hidden": false
    }
   },
   "outputs": [],
   "source": [
    "fig,ax = plt.subplots(1,1,subplot_kw={\"projection\":ccrs.PlateCarree()})\n",
    "fig.set_size_inches(11,11)\n",
    "\n",
    "network.plot(ax=ax,line_colors=abs(loading),line_cmap=plt.cm.jet,title=\"Line loading\")"
   ]
  },
  {
   "cell_type": "code",
   "execution_count": null,
   "metadata": {
    "jupyter": {
     "outputs_hidden": false
    }
   },
   "outputs": [],
   "source": [
    "fig.tight_layout()\n",
    "#fig.savefig(\"line-loading.png\")"
   ]
  },
  {
   "cell_type": "code",
   "execution_count": null,
   "metadata": {
    "jupyter": {
     "outputs_hidden": false
    }
   },
   "outputs": [],
   "source": [
    "network.buses_t.marginal_price.loc[now].describe()"
   ]
  },
  {
   "cell_type": "code",
   "execution_count": null,
   "metadata": {
    "jupyter": {
     "outputs_hidden": false
    }
   },
   "outputs": [],
   "source": [
    "fig,ax = plt.subplots(1,1,subplot_kw={\"projection\":ccrs.PlateCarree()})\n",
    "fig.set_size_inches(11,11)\n",
    "\n",
    "\n",
    "network.plot(ax=ax,line_widths=pd.Series(0.5,network.lines.index))\n",
    "plt.hexbin(network.buses.x, network.buses.y, \n",
    "           gridsize=20,\n",
    "           C=network.buses_t.marginal_price.loc[now],\n",
    "           cmap=plt.cm.jet)\n",
    "\n",
    "#for some reason the colorbar only works with graphs plt.plot\n",
    "#and must be attached plt.colorbar\n",
    "\n",
    "cb = plt.colorbar()\n",
    "cb.set_label('Locational Marginal Price (EUR/MWh)') \n"
   ]
  },
  {
   "cell_type": "code",
   "execution_count": null,
   "metadata": {},
   "outputs": [],
   "source": [
    "fig.tight_layout()\n",
    "#fig.savefig('lmp.png')"
   ]
  },
  {
   "cell_type": "markdown",
   "metadata": {},
   "source": [
    "## Look at variable curtailment"
   ]
  },
  {
   "cell_type": "code",
   "execution_count": null,
   "metadata": {
    "jupyter": {
     "outputs_hidden": false
    }
   },
   "outputs": [],
   "source": [
    "carrier = \"Wind Onshore\"\n",
    "\n",
    "capacity = network.generators.groupby(\"carrier\").sum().at[carrier,\"p_nom\"]"
   ]
  },
  {
   "cell_type": "code",
   "execution_count": null,
   "metadata": {
    "jupyter": {
     "outputs_hidden": false
    }
   },
   "outputs": [],
   "source": [
    "p_available = network.generators_t.p_max_pu.multiply(network.generators[\"p_nom\"])"
   ]
  },
  {
   "cell_type": "code",
   "execution_count": null,
   "metadata": {},
   "outputs": [],
   "source": [
    "p_available_by_carrier =p_available.groupby(network.generators.carrier, axis=1).sum()"
   ]
  },
  {
   "cell_type": "code",
   "execution_count": null,
   "metadata": {
    "jupyter": {
     "outputs_hidden": false
    }
   },
   "outputs": [],
   "source": [
    "p_curtailed_by_carrier = p_available_by_carrier - p_by_carrier"
   ]
  },
  {
   "cell_type": "code",
   "execution_count": null,
   "metadata": {},
   "outputs": [],
   "source": [
    "p_df = pd.DataFrame({carrier + \" available\" : p_available_by_carrier[carrier],\n",
    "                     carrier + \" dispatched\" : p_by_carrier[carrier],\n",
    "                     carrier + \" curtailed\" : p_curtailed_by_carrier[carrier]})\n",
    "\n",
    "p_df[carrier + \" capacity\"] = capacity"
   ]
  },
  {
   "cell_type": "code",
   "execution_count": null,
   "metadata": {
    "jupyter": {
     "outputs_hidden": false
    }
   },
   "outputs": [],
   "source": [
    "p_df[\"Wind Onshore curtailed\"][p_df[\"Wind Onshore curtailed\"] < 0.] = 0."
   ]
  },
  {
   "cell_type": "code",
   "execution_count": null,
   "metadata": {
    "jupyter": {
     "outputs_hidden": false
    }
   },
   "outputs": [],
   "source": [
    "fig,ax = plt.subplots(1,1)\n",
    "fig.set_size_inches(12,6)\n",
    "p_df[[carrier + \" dispatched\",carrier + \" curtailed\"]].plot(kind=\"area\",ax=ax,linewidth=3)\n",
    "p_df[[carrier + \" available\",carrier + \" capacity\"]].plot(ax=ax,linewidth=3)\n",
    "\n",
    "ax.set_xlabel(\"\")\n",
    "ax.set_ylabel(\"Power [MW]\")\n",
    "ax.set_ylim([0,40000])\n",
    "ax.legend()"
   ]
  },
  {
   "cell_type": "code",
   "execution_count": null,
   "metadata": {},
   "outputs": [],
   "source": [
    "fig.tight_layout()\n",
    "#fig.savefig(\"scigrid-curtailment.png\")"
   ]
  },
  {
   "cell_type": "markdown",
   "metadata": {},
   "source": [
    "# Check power flow"
   ]
  },
  {
   "cell_type": "code",
   "execution_count": null,
   "metadata": {},
   "outputs": [],
   "source": [
    "now = network.snapshots[0]"
   ]
  },
  {
   "cell_type": "code",
   "execution_count": null,
   "metadata": {
    "jupyter": {
     "outputs_hidden": false
    }
   },
   "outputs": [],
   "source": [
    "for bus in network.buses.index:\n",
    "    bus_sum = network.buses_t.p.loc[now,bus]\n",
    "    branches_sum = 0\n",
    "    for comp in [\"lines\",\"transformers\"]:\n",
    "        comps = getattr(network,comp)\n",
    "        comps_t = getattr(network,comp+\"_t\")\n",
    "        branches_sum += comps_t.p0.loc[now,comps.bus0==bus].sum() - comps_t.p0.loc[now,comps.bus1==bus].sum()\n",
    "\n",
    "    if abs(bus_sum-branches_sum) > 1e-4:\n",
    "        print(bus,bus_sum,branches_sum)"
   ]
  },
  {
   "cell_type": "markdown",
   "metadata": {},
   "source": [
    "## Now perform a full Newton-Raphson power flow on the first hour"
   ]
  },
  {
   "cell_type": "code",
   "execution_count": null,
   "metadata": {
    "jupyter": {
     "outputs_hidden": false
    }
   },
   "outputs": [],
   "source": [
    "#For the PF, set the P to the optimised P\n",
    "network.generators_t.p_set = network.generators_t.p_set.reindex(columns=network.generators.index)\n",
    "network.generators_t.p_set = network.generators_t.p\n",
    "\n",
    "network.storage_units_t.p_set = network.storage_units_t.p_set.reindex(columns=network.storage_units.index)\n",
    "network.storage_units_t.p_set = network.storage_units_t.p"
   ]
  },
  {
   "cell_type": "code",
   "execution_count": null,
   "metadata": {
    "jupyter": {
     "outputs_hidden": false
    }
   },
   "outputs": [],
   "source": [
    "\n",
    "#set all buses to PV, since we don't know what Q set points are\n",
    "network.generators.control = \"PV\"\n",
    "\n",
    "#set slack\n",
    "#network.generators.loc[\"1 Coal\",\"control\"] = \"Slack\"\n",
    "\n",
    "\n",
    "#Need some PQ buses so that Jacobian doesn't break\n",
    "f = network.generators[network.generators.bus == \"492\"]\n",
    "network.generators.loc[f.index,\"control\"] = \"PQ\""
   ]
  },
  {
   "cell_type": "code",
   "execution_count": null,
   "metadata": {
    "jupyter": {
     "outputs_hidden": false
    }
   },
   "outputs": [],
   "source": [
    "\n",
    "print(\"Performing non-linear PF on results of LOPF:\")\n",
    "\n",
    "info = network.pf()"
   ]
  },
  {
   "cell_type": "code",
   "execution_count": null,
   "metadata": {
    "jupyter": {
     "outputs_hidden": false
    }
   },
   "outputs": [],
   "source": [
    "#any failed to converge?\n",
    "(~info.converged).any().any()"
   ]
  },
  {
   "cell_type": "code",
   "execution_count": null,
   "metadata": {
    "jupyter": {
     "outputs_hidden": false
    }
   },
   "outputs": [],
   "source": [
    "print(\"With the non-linear load flow, there is the following per unit loading\\nof the full thermal rating:\")\n",
    "print((network.lines_t.p0.loc[now]/network.lines.s_nom).describe())"
   ]
  },
  {
   "cell_type": "code",
   "execution_count": null,
   "metadata": {
    "jupyter": {
     "outputs_hidden": false
    }
   },
   "outputs": [],
   "source": [
    "#Get voltage angle differences\n",
    "\n",
    "df = network.lines.copy()\n",
    "\n",
    "for b in [\"bus0\",\"bus1\"]:\n",
    "    df = pd.merge(df,network.buses_t.v_ang.loc[[now]].T,how=\"left\",\n",
    "         left_on=b,right_index=True)\n",
    "\n",
    "s = df[str(now)+\"_x\"]- df[str(now)+\"_y\"]"
   ]
  },
  {
   "cell_type": "code",
   "execution_count": null,
   "metadata": {
    "jupyter": {
     "outputs_hidden": false
    }
   },
   "outputs": [],
   "source": [
    "print(\"The voltage angle differences across the lines have (in degrees):\")\n",
    "print((s*180/np.pi).describe())"
   ]
  },
  {
   "cell_type": "code",
   "execution_count": null,
   "metadata": {
    "jupyter": {
     "outputs_hidden": false
    }
   },
   "outputs": [],
   "source": [
    "#plot the reactive power\n",
    "\n",
    "fig,ax = plt.subplots(1,1,subplot_kw={\"projection\":ccrs.PlateCarree()})\n",
    "\n",
    "fig.set_size_inches(11,11)\n",
    "\n",
    "q = network.buses_t.q.loc[now]\n",
    "\n",
    "bus_colors = pd.Series(\"r\",network.buses.index)\n",
    "bus_colors[q< 0.] = \"b\"\n",
    "\n",
    "\n",
    "network.plot(bus_sizes=abs(q),ax=ax,bus_colors=bus_colors,title=\"Reactive power feed-in (red=+ve, blue=-ve)\")\n"
   ]
  },
  {
   "cell_type": "code",
   "execution_count": null,
   "metadata": {},
   "outputs": [],
   "source": [
    "fig.tight_layout()\n",
    "#fig.savefig(\"reactive-power.png\")"
   ]
  },
  {
   "cell_type": "code",
   "execution_count": null,
   "metadata": {
    "jupyter": {
     "outputs_hidden": false
    }
   },
   "outputs": [],
   "source": [
    "network.generators_t.q.loc[now].sum()"
   ]
  },
  {
   "cell_type": "code",
   "execution_count": null,
   "metadata": {
    "jupyter": {
     "outputs_hidden": false
    }
   },
   "outputs": [],
   "source": [
    "network.buses_t.q.loc[now].sum()"
   ]
  },
  {
   "cell_type": "code",
   "execution_count": null,
   "metadata": {},
   "outputs": [],
   "source": []
  }
 ],
 "metadata": {
  "kernelspec": {
   "display_name": "Python 3",
   "language": "python",
   "name": "python3"
  },
  "language_info": {
   "codemirror_mode": {
    "name": "ipython",
    "version": 3
   },
   "file_extension": ".py",
   "mimetype": "text/x-python",
   "name": "python",
   "nbconvert_exporter": "python",
   "pygments_lexer": "ipython3",
   "version": "3.7.6"
  }
 },
 "nbformat": 4,
 "nbformat_minor": 4
}
