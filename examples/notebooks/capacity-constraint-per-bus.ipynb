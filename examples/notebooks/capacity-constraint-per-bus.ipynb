{
 "cells": [
  {
   "cell_type": "markdown",
   "metadata": {},
   "source": [
    "# Constraining the total capacity per bus and carrier\n",
    "\n",
    "In this small example, we limit the nominal capacity of generators of the same production carrier at the same bus. \n",
    "\n",
    "Therefore, we introduce a column `nom_min_{carrier}` and `nom_max_{carrier}` in the `buses` dataframe. These are then used as lower and upper bounds of generators of the same carrier at the same bus. \n",
    "\n",
    "\n",
    "We start with importing a small example network."
   ]
  },
  {
   "cell_type": "code",
   "execution_count": 2,
   "metadata": {},
   "outputs": [
    {
     "name": "stderr",
     "output_type": "stream",
     "text": [
      "WARNING:pypsa.io:\n",
      "Importing PyPSA from older version of PyPSA than current version 0.17.1.\n",
      "Please read the release notes at https://pypsa.org/doc/release_notes.html\n",
      "carefully to prepare your network for import.\n",
      "\n",
      "INFO:pypsa.io:Imported network ac-dc-data has buses, carriers, generators, global_constraints, lines, links, loads\n"
     ]
    }
   ],
   "source": [
    "import pypsa\n",
    "from pathlib import Path\n",
    "\n",
    "n = pypsa.Network(str(Path(pypsa.__file__).parent.parent / 'examples'/\n",
    "                      'ac-dc-meshed'/ 'ac-dc-data'))"
   ]
  },
  {
   "cell_type": "markdown",
   "metadata": {},
   "source": [
    "Now add a second wind generator at bus 'Frankfurt' and limit the combined capacity. "
   ]
  },
  {
   "cell_type": "code",
   "execution_count": 3,
   "metadata": {},
   "outputs": [],
   "source": [
    "n.add('Generator', 'Frankfurt Wind 2', bus='Frankfurt', capital_cost = 120,\n",
    "      carrier='wind', p_nom_extendable=True)\n",
    "\n",
    "n.buses.loc[['Frankfurt', 'Manchester'], 'nom_min_wind'] = 2000\n",
    "n.buses.loc[['Frankfurt'],'nom_max_wind'] = 2200"
   ]
  },
  {
   "cell_type": "markdown",
   "metadata": {},
   "source": [
    "We are running the lopf and check whether the constraint is fulfilled. "
   ]
  },
  {
   "cell_type": "code",
   "execution_count": 4,
   "metadata": {},
   "outputs": [
    {
     "name": "stderr",
     "output_type": "stream",
     "text": [
      "INFO:pypsa.linopf:Prepare linear problem\n",
      "INFO:pypsa.linopf:Total preparation time: 0.25s\n",
      "INFO:pypsa.linopf:Solve linear problem using Glpk solver\n",
      "INFO:pypsa.linopf:Optimization successful. Objective value: -1.38e+07\n"
     ]
    },
    {
     "name": "stdout",
     "output_type": "stream",
     "text": [
      "Manchester Wind     2000.0000\n",
      "Manchester Gas         0.0000\n",
      "Norway Wind          895.3730\n",
      "Norway Gas            91.0017\n",
      "Frankfurt Wind       100.0000\n",
      "Frankfurt Gas        884.0930\n",
      "Frankfurt Wind 2    2100.0000\n",
      "Name: p_nom_opt, dtype: float64\n"
     ]
    }
   ],
   "source": [
    "n.lopf(pyomo=False)\n",
    "\n",
    "print(n.generators.p_nom_opt)"
   ]
  },
  {
   "cell_type": "markdown",
   "metadata": {},
   "source": [
    "Looks good! The generators of carrier 'wind' at bus 'Frankfurt' are just the limit of 2200 MW.  "
   ]
  }
 ],
 "metadata": {
  "kernelspec": {
   "display_name": "Python 3",
   "language": "python",
   "name": "python3"
  },
  "language_info": {
   "codemirror_mode": {
    "name": "ipython",
    "version": 3
   },
   "file_extension": ".py",
   "mimetype": "text/x-python",
   "name": "python",
   "nbconvert_exporter": "python",
   "pygments_lexer": "ipython3",
   "version": "3.7.9"
  }
 },
 "nbformat": 4,
 "nbformat_minor": 4
}
