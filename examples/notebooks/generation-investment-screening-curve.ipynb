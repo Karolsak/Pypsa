{
 "cells": [
  {
   "cell_type": "markdown",
   "metadata": {},
   "source": [
    "# Show classic screening curve analysis for generation investment\n",
    "\n",
    "Compute the long-term equilibrium power plant investment for a given load duration curve (1000-1000z for z \\in [0,1]) and a given set of generator investment options.\n",
    "\n",
    "Available as a Jupyter notebook at http://www.pypsa.org/examples/generation-investment-screening-curve.ipynb.\n"
   ]
  },
  {
   "cell_type": "code",
   "execution_count": null,
   "metadata": {},
   "outputs": [],
   "source": [
    "import pypsa\n",
    "import numpy as np\n",
    "import pandas as pd\n",
    "%matplotlib inline"
   ]
  },
  {
   "cell_type": "code",
   "execution_count": null,
   "metadata": {},
   "outputs": [],
   "source": [
    "#Generator marginal (m) and capital (c) costs in EUR/MWh - numbers chosen for simple answer\n",
    "generators = {\"coal\" : {\"m\" : 2, \"c\" : 15},\n",
    "              \"gas\" : {\"m\" : 12, \"c\": 10},\n",
    "              \"load-shedding\" : {\"m\" : 1012, \"c\" : 0}}"
   ]
  },
  {
   "cell_type": "code",
   "execution_count": null,
   "metadata": {},
   "outputs": [],
   "source": [
    "#Screening curve intersections at 0.01 and 0.5\n",
    "x = np.linspace(0,1,101)\n",
    "df = pd.DataFrame({key : pd.Series(item[\"c\"] + x*item[\"m\"],x) for key,item in generators.items()})\n",
    "df.plot(ylim=[0,50],title=\"Screening Curve\", figsize = (9,7))"
   ]
  },
  {
   "cell_type": "code",
   "execution_count": null,
   "metadata": {},
   "outputs": [],
   "source": [
    "n = pypsa.Network()\n",
    "\n",
    "num_snapshots = 1001\n",
    "\n",
    "snapshots = np.linspace(0,1,num_snapshots)\n",
    "\n",
    "n.set_snapshots(snapshots)\n",
    "\n",
    "n.snapshot_weightings = n.snapshot_weightings/num_snapshots\n",
    "\n",
    "n.add(\"Bus\",name=\"bus\")\n",
    "\n",
    "n.add(\"Load\",name=\"load\",bus=\"bus\",\n",
    "      p_set=1000-1000*snapshots)\n",
    "\n",
    "for gen in generators:\n",
    "    n.add(\"Generator\",name=gen,bus=\"bus\",\n",
    "          p_nom_extendable=True,\n",
    "          marginal_cost=float(generators[gen][\"m\"]),\n",
    "          capital_cost=float(generators[gen][\"c\"]))"
   ]
  },
  {
   "cell_type": "code",
   "execution_count": null,
   "metadata": {},
   "outputs": [],
   "source": [
    "n.loads_t.p_set.plot(title=\"Load Duration Curve\", figsize = (9,7))"
   ]
  },
  {
   "cell_type": "code",
   "execution_count": null,
   "metadata": {},
   "outputs": [],
   "source": [
    "n.lopf(solver_name=\"cbc\")"
   ]
  },
  {
   "cell_type": "code",
   "execution_count": null,
   "metadata": {},
   "outputs": [],
   "source": [
    "print(n.objective)"
   ]
  },
  {
   "cell_type": "code",
   "execution_count": null,
   "metadata": {},
   "outputs": [],
   "source": [
    "#capacity set by total electricity required\n",
    "#NB: no load shedding since all prices < 1e4\n",
    "n.generators.p_nom_opt.round(2)"
   ]
  },
  {
   "cell_type": "code",
   "execution_count": null,
   "metadata": {},
   "outputs": [],
   "source": [
    "n.buses_t.marginal_price.plot(title=\"Price Duration Curve\", figsize = (9,7))"
   ]
  },
  {
   "cell_type": "code",
   "execution_count": null,
   "metadata": {},
   "outputs": [],
   "source": [
    "#The prices correspond either to VOLL (1012) for first 0.01 or the marginal costs (12 for 0.49 and 2 for 0.5)\n",
    "\n",
    "#EXCEPT for (infinitesimally small) points at the screening curve intersections, which\n",
    "#correspond to changing the load duration near the intersection, so that capacity changes\n",
    "#This explains 7 = (12+10 - 15) (replacing coal with gas) and 22 = (12+10) (replacing load-shedding with gas)\n",
    "\n",
    "#I have no idea what is causing \\l = 0; it should be 2.\n",
    "\n",
    "n.buses_t.marginal_price.round(2).sum(axis=1).value_counts()"
   ]
  },
  {
   "cell_type": "code",
   "execution_count": null,
   "metadata": {},
   "outputs": [],
   "source": [
    "n.generators_t.p.plot(ylim=[0,600],title=\"Generation Dispatch\", figsize = (9,7))"
   ]
  },
  {
   "cell_type": "code",
   "execution_count": null,
   "metadata": {},
   "outputs": [],
   "source": [
    "#Demonstrate zero-profit condition\n",
    "print(\"Total costs:\")\n",
    "print(n.generators.p_nom_opt*n.generators.capital_cost + n.generators_t.p.multiply(n.snapshot_weightings,axis=0).sum()*n.generators.marginal_cost)\n",
    "\n",
    "\n",
    "\n",
    "print(\"\\nTotal revenue:\")\n",
    "print(n.generators_t.p.multiply(n.snapshot_weightings,axis=0).multiply(n.buses_t.marginal_price[\"bus\"],axis=0).sum())"
   ]
  },
  {
   "cell_type": "markdown",
   "metadata": {},
   "source": [
    "# Without expansion optimisation\n",
    "\n",
    "Take the capacities from the above long-term equilibrium, then disallow expansion.\n",
    "\n",
    "Show that the resulting market prices are identical.\n",
    "\n",
    "This holds in this example, but does NOT necessarily hold and breaks down in some circumstances (for example, when there is a lot of storage and inter-temporal shifting)."
   ]
  },
  {
   "cell_type": "code",
   "execution_count": null,
   "metadata": {},
   "outputs": [],
   "source": [
    "n.generators.p_nom_extendable = False\n",
    "n.generators.p_nom = n.generators.p_nom_opt"
   ]
  },
  {
   "cell_type": "code",
   "execution_count": null,
   "metadata": {},
   "outputs": [],
   "source": [
    "n.lopf(solver_name='glpk')"
   ]
  },
  {
   "cell_type": "code",
   "execution_count": null,
   "metadata": {},
   "outputs": [],
   "source": [
    "n.buses_t.marginal_price.plot(title=\"Price Duration Curve\", figsize = (9,7))"
   ]
  },
  {
   "cell_type": "code",
   "execution_count": null,
   "metadata": {},
   "outputs": [],
   "source": [
    "n.buses_t.marginal_price.sum(axis=1).value_counts()"
   ]
  },
  {
   "cell_type": "code",
   "execution_count": null,
   "metadata": {},
   "outputs": [],
   "source": [
    "#Demonstrate zero-profit condition\n",
    "\n",
    "#Differences are due to singular times, see above, not a problem\n",
    "\n",
    "print(\"Total costs:\")\n",
    "print(n.generators.p_nom*n.generators.capital_cost + n.generators_t.p.multiply(n.snapshot_weightings,axis=0).sum()*n.generators.marginal_cost)\n",
    "\n",
    "\n",
    "\n",
    "print(\"Total revenue:\")\n",
    "print(n.generators_t.p.multiply(n.snapshot_weightings,axis=0).multiply(n.buses_t.marginal_price[\"bus\"],axis=0).sum())"
   ]
  },
  {
   "cell_type": "code",
   "execution_count": null,
   "metadata": {},
   "outputs": [],
   "source": []
  }
 ],
 "metadata": {
  "kernelspec": {
   "display_name": "Python 3",
   "language": "python",
   "name": "python3"
  },
  "language_info": {
   "codemirror_mode": {
    "name": "ipython",
    "version": 3
   },
   "file_extension": ".py",
   "mimetype": "text/x-python",
   "name": "python",
   "nbconvert_exporter": "python",
   "pygments_lexer": "ipython3",
   "version": "3.6.9"
  }
 },
 "nbformat": 4,
 "nbformat_minor": 1
}
