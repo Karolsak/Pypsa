{
 "cells": [
  {
   "cell_type": "markdown",
   "metadata": {},
   "source": [
    "# Two chained reservoirs with inflow in one supply two electric loads\n",
    "\n",
    "Two disconnected electrical loads are fed from two reservoirs linked by a river; the first reservoir has inflow from rain onto a water basin.\n",
    "\n",
    "Note that the two reservoirs are tightly coupled, meaning there is no time delay between the first one emptying and the second one filling, as there would be if there were a long stretch of river between the reservoirs. The reservoirs are essentially assumed to be close to each other. A time delay would require a \"Link\" element between different snapshots, which is not yet supported by PyPSA (but could be enabled by passing network.lopf() an extra_functionality function)."
   ]
  },
  {
   "cell_type": "code",
   "execution_count": null,
   "metadata": {},
   "outputs": [],
   "source": [
    "import pypsa\n",
    "import pandas as pd\n",
    "import numpy as np\n",
    "\n",
    "from pyomo.environ import Constraint"
   ]
  },
  {
   "cell_type": "code",
   "execution_count": null,
   "metadata": {},
   "outputs": [],
   "source": [
    "#First tell PyPSA that links will have a 2nd bus by\n",
    "#overriding the component_attrs. This is needed so that\n",
    "#water can both go through a turbine AND feed the next reservoir\n",
    "\n",
    "override_component_attrs = pypsa.descriptors.Dict({k : v.copy() for k,v in pypsa.components.component_attrs.items()})\n",
    "override_component_attrs[\"Link\"].loc[\"bus2\"] = [\"string\",np.nan,np.nan,\"2nd bus\",\"Input (optional)\"]\n",
    "override_component_attrs[\"Link\"].loc[\"efficiency2\"] = [\"static or series\",\"per unit\",1.,\"2nd bus efficiency\",\"Input (optional)\"]\n",
    "override_component_attrs[\"Link\"].loc[\"p2\"] = [\"series\",\"MW\",0.,\"2nd bus output\",\"Output\"]"
   ]
  },
  {
   "cell_type": "code",
   "execution_count": null,
   "metadata": {},
   "outputs": [],
   "source": [
    "\n",
    "network = pypsa.Network(override_component_attrs=override_component_attrs)\n",
    "\n",
    "network.set_snapshots(pd.date_range(\"2016-01-01 00:00\",\"2016-01-01 03:00\",freq=\"H\"))\n",
    "\n",
    "network.add(\"Carrier\",\n",
    "            \"reservoir\")\n",
    "    \n",
    "network.add(\"Carrier\",\n",
    "            \"rain\")\n",
    "\n",
    "\n",
    "network.add(\"Bus\",\n",
    "            \"0\",\n",
    "            carrier=\"AC\")\n",
    "\n",
    "network.add(\"Bus\",\n",
    "            \"1\",\n",
    "            carrier=\"AC\")\n",
    "\n",
    "\n",
    "network.add(\"Bus\",\n",
    "            \"0 reservoir\",\n",
    "            carrier=\"reservoir\")\n",
    "\n",
    "network.add(\"Bus\",\n",
    "            \"1 reservoir\",\n",
    "            carrier=\"reservoir\")\n",
    "\n",
    "\n",
    "network.add(\"Generator\",\n",
    "            \"rain\",\n",
    "            bus=\"0 reservoir\",\n",
    "            carrier=\"rain\",\n",
    "            p_nom=1000,\n",
    "            p_max_pu=[0.,0.2,0.7,0.4])\n",
    "\n",
    "\n",
    "network.add(\"Load\",\n",
    "            \"0 load\",\n",
    "            bus=\"0\",\n",
    "            p_set=20.)\n",
    "\n",
    "network.add(\"Load\",\n",
    "            \"1 load\",\n",
    "            bus=\"1\",\n",
    "            p_set=30.)\n",
    "\n",
    "\n",
    "#The efficiency of a river is the relation between the gravitational potential\n",
    "#energy of 1 m^3 of water in reservoir 0 relative to its turbine versus the \n",
    "#potential energy of 1 m^3 of water in reservoir 1 relative to its turbine\n",
    "\n",
    "network.add(\"Link\",\n",
    "            \"spillage\",\n",
    "            bus0=\"0 reservoir\",\n",
    "            bus1=\"1 reservoir\",\n",
    "            efficiency=0.5,\n",
    "            p_nom_extendable=True) \n",
    "\n",
    "\n",
    "#water from turbine also goes into next reservoir\n",
    "network.add(\"Link\",\n",
    "            \"0 turbine\",\n",
    "            bus0=\"0 reservoir\",\n",
    "            bus1=\"0\",\n",
    "            bus2=\"1 reservoir\",\n",
    "            efficiency=0.9,\n",
    "            efficiency2=0.5,\n",
    "            capital_cost=1000,\n",
    "            p_nom_extendable=True)\n",
    "\n",
    "network.add(\"Link\",\n",
    "            \"1 turbine\",\n",
    "            bus0=\"1 reservoir\",\n",
    "            bus1=\"1\",\n",
    "            efficiency=0.9,\n",
    "            capital_cost=1000,\n",
    "            p_nom_extendable=True)\n",
    "   \n",
    "\n",
    "network.add(\"Store\",\n",
    "            \"0 reservoir\",\n",
    "            bus=\"0 reservoir\",\n",
    "            e_cyclic=True,\n",
    "            e_nom_extendable=True) \n",
    "\n",
    "network.add(\"Store\",\n",
    "            \"1 reservoir\",\n",
    "            bus=\"1 reservoir\",\n",
    "            e_cyclic=True,\n",
    "            e_nom_extendable=True)"
   ]
  },
  {
   "cell_type": "code",
   "execution_count": null,
   "metadata": {},
   "outputs": [],
   "source": [
    "network.lopf(network.snapshots)\n",
    "print(\"Objective:\",network.objective)"
   ]
  },
  {
   "cell_type": "code",
   "execution_count": null,
   "metadata": {},
   "outputs": [],
   "source": [
    "print(network.generators_t.p)"
   ]
  },
  {
   "cell_type": "code",
   "execution_count": null,
   "metadata": {},
   "outputs": [],
   "source": [
    "print(network.links_t.p0)"
   ]
  },
  {
   "cell_type": "code",
   "execution_count": null,
   "metadata": {},
   "outputs": [],
   "source": [
    "print(network.links_t.p1)"
   ]
  },
  {
   "cell_type": "code",
   "execution_count": null,
   "metadata": {},
   "outputs": [],
   "source": [
    "print(network.links_t.p2)"
   ]
  },
  {
   "cell_type": "code",
   "execution_count": null,
   "metadata": {},
   "outputs": [],
   "source": [
    "print(pd.DataFrame({attr: network.stores_t[attr][\"0 reservoir\"] for attr in [\"p\",\"e\"]}))"
   ]
  },
  {
   "cell_type": "code",
   "execution_count": null,
   "metadata": {},
   "outputs": [],
   "source": [
    "print(pd.DataFrame({attr: network.stores_t[attr][\"1 reservoir\"] for attr in [\"p\",\"e\"]}))"
   ]
  }
 ],
 "metadata": {
  "kernelspec": {
   "display_name": "Python 3",
   "language": "python",
   "name": "python3"
  },
  "language_info": {
   "codemirror_mode": {
    "name": "ipython",
    "version": 3
   },
   "file_extension": ".py",
   "mimetype": "text/x-python",
   "name": "python",
   "nbconvert_exporter": "python",
   "pygments_lexer": "ipython3",
   "version": "3.6.9"
  }
 },
 "nbformat": 4,
 "nbformat_minor": 1
}
