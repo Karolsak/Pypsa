{
 "cells": [
  {
   "cell_type": "markdown",
   "metadata": {},
   "source": [
    "# Example of linear optimal power flow with coupling to heating sector\n",
    "\n",
    "In this example three locations are optimised, each with an electric bus and a heating bus and corresponding loads. At each location the electric and heating buses are connected with heat pumps; heat can also be supplied to the heat bus with a boiler. The electric buses are connected with transmission lines and there are electrical generators at two of the nodes.\n",
    "\n",
    "Available as a Jupyter notebook at <http://www.pypsa.org/examples/lopf-with-heating.ipynb>."
   ]
  },
  {
   "cell_type": "code",
   "execution_count": null,
   "metadata": {},
   "outputs": [],
   "source": [
    "# make the code as Python 3 compatible as possible \n",
    "from __future__ import print_function, division\n",
    "\n",
    "import pypsa\n",
    "\n",
    "import numpy as np\n",
    "\n",
    "import pandas as pd"
   ]
  },
  {
   "cell_type": "code",
   "execution_count": null,
   "metadata": {},
   "outputs": [],
   "source": [
    "network = pypsa.Network()"
   ]
  },
  {
   "cell_type": "code",
   "execution_count": null,
   "metadata": {},
   "outputs": [],
   "source": [
    "#add three buses of AC and heat carrier each\n",
    "for i in range(3):\n",
    "    network.add(\"Bus\",\"electric bus {}\".format(i),v_nom=20.)\n",
    "    network.add(\"Bus\",\"heat bus {}\".format(i),carrier=\"heat\")"
   ]
  },
  {
   "cell_type": "code",
   "execution_count": null,
   "metadata": {},
   "outputs": [],
   "source": [
    "print(network.buses)"
   ]
  },
  {
   "cell_type": "code",
   "execution_count": null,
   "metadata": {},
   "outputs": [],
   "source": [
    "network.buses[\"carrier\"].value_counts()"
   ]
  },
  {
   "cell_type": "code",
   "execution_count": null,
   "metadata": {},
   "outputs": [],
   "source": [
    "#add three lines in a ring\n",
    "for i in range(3):\n",
    "    network.add(\"Line\",\"line {}\".format(i),\n",
    "                bus0=\"electric bus {}\".format(i),\n",
    "                bus1=\"electric bus {}\".format((i+1)%3),\n",
    "                x=0.1,\n",
    "                s_nom=1000)"
   ]
  },
  {
   "cell_type": "code",
   "execution_count": null,
   "metadata": {},
   "outputs": [],
   "source": [
    "print(network.lines)"
   ]
  },
  {
   "cell_type": "code",
   "execution_count": null,
   "metadata": {},
   "outputs": [],
   "source": [
    "#connect the electric to the heat buses with heat pumps with COP 3.\n",
    "for i in range(3):\n",
    "    network.add(\"Link\",\n",
    "                \"heat pump {}\".format(i),\n",
    "                bus0=\"electric bus {}\".format(i),\n",
    "                bus1=\"heat bus {}\".format(i),\n",
    "                p_nom=100,\n",
    "                efficiency=3.)"
   ]
  },
  {
   "cell_type": "code",
   "execution_count": null,
   "metadata": {},
   "outputs": [],
   "source": [
    "print(network.links)"
   ]
  },
  {
   "cell_type": "code",
   "execution_count": null,
   "metadata": {},
   "outputs": [],
   "source": [
    "#add carriers\n",
    "network.add(\"Carrier\",\"gas\",\n",
    "           co2_emissions=0.27)\n",
    "network.add(\"Carrier\",\"biomass\",\n",
    "           co2_emissions=0.)"
   ]
  },
  {
   "cell_type": "code",
   "execution_count": null,
   "metadata": {},
   "outputs": [],
   "source": [
    "print(network.carriers)"
   ]
  },
  {
   "cell_type": "code",
   "execution_count": null,
   "metadata": {},
   "outputs": [],
   "source": [
    "\n",
    "#add a gas generator at bus 0\n",
    "network.add(\"Generator\",\"gas generator\",\n",
    "            bus=\"electric bus 0\",\n",
    "            p_nom=100,\n",
    "            marginal_cost=50,\n",
    "            carrier=\"gas\",\n",
    "            efficiency=0.3)\n",
    "\n",
    "#add a biomass generator at bus 1\n",
    "network.add(\"Generator\",\"biomass generator\",\n",
    "            bus=\"electric bus 1\",\n",
    "            p_nom=100,\n",
    "            marginal_cost=100,\n",
    "            efficiency=0.3,\n",
    "            carrier=\"biomass\")\n",
    "\n",
    "#add a boiler at all heat buses\n",
    "for i in range(3):\n",
    "    network.add(\"Generator\",\"boiler {}\".format(i),\n",
    "            bus=\"heat bus {}\".format(i),\n",
    "            p_nom=1000,\n",
    "            efficiency=0.9,\n",
    "            marginal_cost=20.,\n",
    "            carrier=\"gas\")"
   ]
  },
  {
   "cell_type": "code",
   "execution_count": null,
   "metadata": {},
   "outputs": [],
   "source": [
    "print(network.generators)"
   ]
  },
  {
   "cell_type": "code",
   "execution_count": null,
   "metadata": {},
   "outputs": [],
   "source": [
    "#add electric loads\n",
    "for i in range(3):\n",
    "    network.add(\"Load\",\"electric load {}\".format(i),\n",
    "                bus=\"electric bus {}\".format(i),\n",
    "                p_set=i*10)"
   ]
  },
  {
   "cell_type": "code",
   "execution_count": null,
   "metadata": {},
   "outputs": [],
   "source": [
    "#add heat loads\n",
    "for i in range(3):\n",
    "    network.add(\"Load\",\"heat load {}\".format(i),\n",
    "                bus=\"heat bus {}\".format(i),\n",
    "                p_set=(3-i)*10)"
   ]
  },
  {
   "cell_type": "code",
   "execution_count": null,
   "metadata": {},
   "outputs": [],
   "source": [
    "print(network.loads)"
   ]
  },
  {
   "cell_type": "code",
   "execution_count": null,
   "metadata": {},
   "outputs": [],
   "source": [
    "print(network.loads.p_set)"
   ]
  },
  {
   "cell_type": "code",
   "execution_count": null,
   "metadata": {},
   "outputs": [],
   "source": [
    "#function for the LOPF\n",
    "\n",
    "def run_lopf():\n",
    "    network.lopf(keep_files=True)\n",
    "    print(\"Objective:\",network.objective)\n",
    "    print(network.generators_t.p)\n",
    "    print(network.links_t.p0)\n",
    "    print(network.loads_t.p)"
   ]
  },
  {
   "cell_type": "code",
   "execution_count": null,
   "metadata": {},
   "outputs": [],
   "source": [
    "run_lopf()"
   ]
  },
  {
   "cell_type": "code",
   "execution_count": null,
   "metadata": {},
   "outputs": [],
   "source": [
    "#rerun with marginal costs for the heat pump operation\n",
    "\n",
    "network.links.marginal_cost = 10\n",
    "run_lopf()"
   ]
  },
  {
   "cell_type": "code",
   "execution_count": null,
   "metadata": {},
   "outputs": [],
   "source": [
    "#rerun with no CO2 emissions\n",
    "\n",
    "network.add(\"GlobalConstraint\",\n",
    "            \"co2_limit\",\n",
    "            sense=\"<=\",\n",
    "            constant=0.)\n",
    "\n",
    "run_lopf()"
   ]
  },
  {
   "cell_type": "code",
   "execution_count": null,
   "metadata": {},
   "outputs": [],
   "source": []
  }
 ],
 "metadata": {
  "kernelspec": {
   "display_name": "Python 3",
   "language": "python",
   "name": "python3"
  },
  "language_info": {
   "codemirror_mode": {
    "name": "ipython",
    "version": 3
   },
   "file_extension": ".py",
   "mimetype": "text/x-python",
   "name": "python",
   "nbconvert_exporter": "python",
   "pygments_lexer": "ipython3",
   "version": "3.6.9"
  }
 },
 "nbformat": 4,
 "nbformat_minor": 1
}
