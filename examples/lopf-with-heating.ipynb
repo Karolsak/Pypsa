{
 "cells": [
  {
   "cell_type": "markdown",
   "metadata": {},
   "source": [
    "# Example of linear optimal power flow with coupling to heating sector\n",
    "\n",
    "In this example three locations are optimised, each with an electric bus and a heating bus and corresponding loads. At each location the electric and heating buses are connected with heat pumps; heat can also be supplied to the heat bus with a boiler. The electric buses are connected with transmission lines and there are electrical generators at two of the nodes.\n",
    "\n",
    "Available as a Jupyter notebook at <http://www.pypsa.org/examples/lopf-with-heating.ipynb>."
   ]
  },
  {
   "cell_type": "code",
   "execution_count": 22,
   "metadata": {},
   "outputs": [],
   "source": [
    "# make the code as Python 3 compatible as possible \n",
    "from __future__ import print_function, division\n",
    "\n",
    "import pypsa\n",
    "\n",
    "import numpy as np\n",
    "\n",
    "import pandas as pd"
   ]
  },
  {
   "cell_type": "code",
   "execution_count": 23,
   "metadata": {},
   "outputs": [],
   "source": [
    "network = pypsa.Network()"
   ]
  },
  {
   "cell_type": "code",
   "execution_count": 24,
   "metadata": {},
   "outputs": [],
   "source": [
    "#add three buses of AC and heat carrier each\n",
    "for i in range(3):\n",
    "    network.add(\"Bus\",\"electric bus {}\".format(i),v_nom=20.)\n",
    "    network.add(\"Bus\",\"heat bus {}\".format(i),carrier=\"heat\")"
   ]
  },
  {
   "cell_type": "code",
   "execution_count": 25,
   "metadata": {},
   "outputs": [
    {
     "name": "stdout",
     "output_type": "stream",
     "text": [
      "attribute       v_nom type    x    y carrier  v_mag_pu_set  v_mag_pu_min  \\\n",
      "electric bus 0   20.0       0.0  0.0      AC           1.0           0.0   \n",
      "heat bus 0        1.0       0.0  0.0    heat           1.0           0.0   \n",
      "electric bus 1   20.0       0.0  0.0      AC           1.0           0.0   \n",
      "heat bus 1        1.0       0.0  0.0    heat           1.0           0.0   \n",
      "electric bus 2   20.0       0.0  0.0      AC           1.0           0.0   \n",
      "heat bus 2        1.0       0.0  0.0    heat           1.0           0.0   \n",
      "\n",
      "attribute       v_mag_pu_max control sub_network  \n",
      "electric bus 0           inf      PQ              \n",
      "heat bus 0               inf      PQ              \n",
      "electric bus 1           inf      PQ              \n",
      "heat bus 1               inf      PQ              \n",
      "electric bus 2           inf      PQ              \n",
      "heat bus 2               inf      PQ              \n"
     ]
    }
   ],
   "source": [
    "print(network.buses)"
   ]
  },
  {
   "cell_type": "code",
   "execution_count": 26,
   "metadata": {},
   "outputs": [
    {
     "data": {
      "text/plain": [
       "AC      3\n",
       "heat    3\n",
       "Name: carrier, dtype: int64"
      ]
     },
     "execution_count": 26,
     "metadata": {},
     "output_type": "execute_result"
    }
   ],
   "source": [
    "network.buses[\"carrier\"].value_counts()"
   ]
  },
  {
   "cell_type": "code",
   "execution_count": 27,
   "metadata": {},
   "outputs": [],
   "source": [
    "#add three lines in a ring\n",
    "for i in range(3):\n",
    "    network.add(\"Line\",\"line {}\".format(i),\n",
    "                bus0=\"electric bus {}\".format(i),\n",
    "                bus1=\"electric bus {}\".format((i+1)%3),\n",
    "                x=0.1,\n",
    "                s_nom=1000)"
   ]
  },
  {
   "cell_type": "code",
   "execution_count": 28,
   "metadata": {},
   "outputs": [
    {
     "name": "stdout",
     "output_type": "stream",
     "text": [
      "attribute            bus0            bus1 type    x    r    g    b   s_nom  \\\n",
      "line 0     electric bus 0  electric bus 1       0.1  0.0  0.0  0.0  1000.0   \n",
      "line 1     electric bus 1  electric bus 2       0.1  0.0  0.0  0.0  1000.0   \n",
      "line 2     electric bus 2  electric bus 0       0.1  0.0  0.0  0.0  1000.0   \n",
      "\n",
      "attribute  s_nom_extendable  s_nom_min  ...  v_ang_min  v_ang_max  \\\n",
      "line 0                False        0.0  ...       -inf        inf   \n",
      "line 1                False        0.0  ...       -inf        inf   \n",
      "line 2                False        0.0  ...       -inf        inf   \n",
      "\n",
      "attribute  sub_network  x_pu  r_pu  g_pu  b_pu  x_pu_eff r_pu_eff  s_nom_opt  \n",
      "line 0                   0.0   0.0   0.0   0.0       0.0      0.0        0.0  \n",
      "line 1                   0.0   0.0   0.0   0.0       0.0      0.0        0.0  \n",
      "line 2                   0.0   0.0   0.0   0.0       0.0      0.0        0.0  \n",
      "\n",
      "[3 rows x 26 columns]\n"
     ]
    }
   ],
   "source": [
    "print(network.lines)"
   ]
  },
  {
   "cell_type": "code",
   "execution_count": 29,
   "metadata": {},
   "outputs": [],
   "source": [
    "#connect the electric to the heat buses with heat pumps with COP 3.\n",
    "for i in range(3):\n",
    "    network.add(\"Link\",\n",
    "                \"heat pump {}\".format(i),\n",
    "                bus0=\"electric bus {}\".format(i),\n",
    "                bus1=\"heat bus {}\".format(i),\n",
    "                p_nom=100,\n",
    "                efficiency=3.)"
   ]
  },
  {
   "cell_type": "code",
   "execution_count": 30,
   "metadata": {},
   "outputs": [
    {
     "name": "stdout",
     "output_type": "stream",
     "text": [
      "attribute              bus0        bus1 type  efficiency  p_nom  \\\n",
      "heat pump 0  electric bus 0  heat bus 0              3.0  100.0   \n",
      "heat pump 1  electric bus 1  heat bus 1              3.0  100.0   \n",
      "heat pump 2  electric bus 2  heat bus 2              3.0  100.0   \n",
      "\n",
      "attribute    p_nom_extendable  p_nom_min  p_nom_max  p_set  p_min_pu  \\\n",
      "heat pump 0             False        0.0        inf    0.0       0.0   \n",
      "heat pump 1             False        0.0        inf    0.0       0.0   \n",
      "heat pump 2             False        0.0        inf    0.0       0.0   \n",
      "\n",
      "attribute    p_max_pu  capital_cost  marginal_cost  length  terrain_factor  \\\n",
      "heat pump 0       1.0           0.0            0.0     0.0             1.0   \n",
      "heat pump 1       1.0           0.0            0.0     0.0             1.0   \n",
      "heat pump 2       1.0           0.0            0.0     0.0             1.0   \n",
      "\n",
      "attribute    p_nom_opt  \n",
      "heat pump 0        0.0  \n",
      "heat pump 1        0.0  \n",
      "heat pump 2        0.0  \n"
     ]
    }
   ],
   "source": [
    "print(network.links)"
   ]
  },
  {
   "cell_type": "code",
   "execution_count": 31,
   "metadata": {},
   "outputs": [],
   "source": [
    "#add carriers\n",
    "network.add(\"Carrier\",\"gas\",\n",
    "           co2_emissions=0.27)\n",
    "network.add(\"Carrier\",\"biomass\",\n",
    "           co2_emissions=0.)"
   ]
  },
  {
   "cell_type": "code",
   "execution_count": 32,
   "metadata": {},
   "outputs": [
    {
     "name": "stdout",
     "output_type": "stream",
     "text": [
      "attribute  co2_emissions\n",
      "gas                 0.27\n",
      "biomass             0.00\n"
     ]
    }
   ],
   "source": [
    "print(network.carriers)"
   ]
  },
  {
   "cell_type": "code",
   "execution_count": 33,
   "metadata": {},
   "outputs": [],
   "source": [
    "\n",
    "#add a gas generator at bus 0\n",
    "network.add(\"Generator\",\"gas generator\",\n",
    "            bus=\"electric bus 0\",\n",
    "            p_nom=100,\n",
    "            marginal_cost=50,\n",
    "            carrier=\"gas\",\n",
    "            efficiency=0.3)\n",
    "\n",
    "#add a biomass generator at bus 1\n",
    "network.add(\"Generator\",\"biomass generator\",\n",
    "            bus=\"electric bus 1\",\n",
    "            p_nom=100,\n",
    "            marginal_cost=100,\n",
    "            efficiency=0.3,\n",
    "            carrier=\"biomass\")\n",
    "\n",
    "#add a boiler at all heat buses\n",
    "for i in range(3):\n",
    "    network.add(\"Generator\",\"boiler {}\".format(i),\n",
    "            bus=\"heat bus {}\".format(i),\n",
    "            p_nom=1000,\n",
    "            efficiency=0.9,\n",
    "            marginal_cost=20.,\n",
    "            carrier=\"gas\")"
   ]
  },
  {
   "cell_type": "code",
   "execution_count": 34,
   "metadata": {},
   "outputs": [
    {
     "name": "stdout",
     "output_type": "stream",
     "text": [
      "attribute                     bus control type   p_nom  p_nom_extendable  \\\n",
      "gas generator      electric bus 0      PQ        100.0             False   \n",
      "biomass generator  electric bus 1      PQ        100.0             False   \n",
      "boiler 0               heat bus 0      PQ       1000.0             False   \n",
      "boiler 1               heat bus 1      PQ       1000.0             False   \n",
      "boiler 2               heat bus 2      PQ       1000.0             False   \n",
      "\n",
      "attribute          p_nom_min  p_nom_max  p_min_pu  p_max_pu  p_set  ...  \\\n",
      "gas generator            0.0        inf       0.0       1.0    0.0  ...   \n",
      "biomass generator        0.0        inf       0.0       1.0    0.0  ...   \n",
      "boiler 0                 0.0        inf       0.0       1.0    0.0  ...   \n",
      "boiler 1                 0.0        inf       0.0       1.0    0.0  ...   \n",
      "boiler 2                 0.0        inf       0.0       1.0    0.0  ...   \n",
      "\n",
      "attribute          shut_down_cost  min_up_time min_down_time  up_time_before  \\\n",
      "gas generator                 0.0            0             0               1   \n",
      "biomass generator             0.0            0             0               1   \n",
      "boiler 0                      0.0            0             0               1   \n",
      "boiler 1                      0.0            0             0               1   \n",
      "boiler 2                      0.0            0             0               1   \n",
      "\n",
      "attribute          down_time_before  ramp_limit_up  ramp_limit_down  \\\n",
      "gas generator                     0            NaN              NaN   \n",
      "biomass generator                 0            NaN              NaN   \n",
      "boiler 0                          0            NaN              NaN   \n",
      "boiler 1                          0            NaN              NaN   \n",
      "boiler 2                          0            NaN              NaN   \n",
      "\n",
      "attribute          ramp_limit_start_up  ramp_limit_shut_down  p_nom_opt  \n",
      "gas generator                      1.0                   1.0        0.0  \n",
      "biomass generator                  1.0                   1.0        0.0  \n",
      "boiler 0                           1.0                   1.0        0.0  \n",
      "boiler 1                           1.0                   1.0        0.0  \n",
      "boiler 2                           1.0                   1.0        0.0  \n",
      "\n",
      "[5 rows x 28 columns]\n"
     ]
    }
   ],
   "source": [
    "print(network.generators)"
   ]
  },
  {
   "cell_type": "code",
   "execution_count": 35,
   "metadata": {},
   "outputs": [],
   "source": [
    "#add electric loads\n",
    "for i in range(3):\n",
    "    network.add(\"Load\",\"electric load {}\".format(i),\n",
    "                bus=\"electric bus {}\".format(i),\n",
    "                p_set=i*10)"
   ]
  },
  {
   "cell_type": "code",
   "execution_count": 36,
   "metadata": {},
   "outputs": [],
   "source": [
    "#add heat loads\n",
    "for i in range(3):\n",
    "    network.add(\"Load\",\"heat load {}\".format(i),\n",
    "                bus=\"heat bus {}\".format(i),\n",
    "                p_set=(3-i)*10)"
   ]
  },
  {
   "cell_type": "code",
   "execution_count": 37,
   "metadata": {},
   "outputs": [
    {
     "name": "stdout",
     "output_type": "stream",
     "text": [
      "attribute                   bus type  p_set  q_set  sign\n",
      "electric load 0  electric bus 0         0.0    0.0  -1.0\n",
      "electric load 1  electric bus 1        10.0    0.0  -1.0\n",
      "electric load 2  electric bus 2        20.0    0.0  -1.0\n",
      "heat load 0          heat bus 0        30.0    0.0  -1.0\n",
      "heat load 1          heat bus 1        20.0    0.0  -1.0\n",
      "heat load 2          heat bus 2        10.0    0.0  -1.0\n"
     ]
    }
   ],
   "source": [
    "print(network.loads)"
   ]
  },
  {
   "cell_type": "code",
   "execution_count": 38,
   "metadata": {},
   "outputs": [
    {
     "name": "stdout",
     "output_type": "stream",
     "text": [
      "electric load 0     0.0\n",
      "electric load 1    10.0\n",
      "electric load 2    20.0\n",
      "heat load 0        30.0\n",
      "heat load 1        20.0\n",
      "heat load 2        10.0\n",
      "Name: p_set, dtype: float64\n"
     ]
    }
   ],
   "source": [
    "print(network.loads.p_set)"
   ]
  },
  {
   "cell_type": "code",
   "execution_count": 39,
   "metadata": {},
   "outputs": [],
   "source": [
    "#function for the LOPF\n",
    "\n",
    "def run_lopf():\n",
    "    network.lopf(keep_files=True)\n",
    "    print(\"Objective:\",network.objective)\n",
    "    print(network.generators_t.p)\n",
    "    print(network.links_t.p0)\n",
    "    print(network.loads_t.p)"
   ]
  },
  {
   "cell_type": "code",
   "execution_count": 40,
   "metadata": {},
   "outputs": [
    {
     "name": "stderr",
     "output_type": "stream",
     "text": [
      "INFO:pypsa.opf:Performed preliminary steps\n",
      "INFO:pypsa.opf:Building pyomo model using `kirchhoff` formulation\n",
      "INFO:pypsa.opf:Solving model using glpk\n"
     ]
    },
    {
     "name": "stdout",
     "output_type": "stream",
     "text": [
      "Solver log file: '/tmp/tmpl5xk0mju.glpk.log'\n",
      "Solver solution file: '/tmp/tmp6rghrfux.glpk.raw'\n",
      "Solver problem files: ('/tmp/tmprqq33qhr.pyomo.lp',)\n"
     ]
    },
    {
     "name": "stderr",
     "output_type": "stream",
     "text": [
      "INFO:pypsa.opf:Optimization successful\n"
     ]
    },
    {
     "name": "stdout",
     "output_type": "stream",
     "text": [
      "# ==========================================================\n",
      "# = Solver Results                                         =\n",
      "# ==========================================================\n",
      "# ----------------------------------------------------------\n",
      "#   Problem Information\n",
      "# ----------------------------------------------------------\n",
      "Problem: \n",
      "- Name: unknown\n",
      "  Lower bound: 2499.99999999999\n",
      "  Upper bound: 2499.99999999999\n",
      "  Number of objectives: 1\n",
      "  Number of constraints: 20\n",
      "  Number of variables: 12\n",
      "  Number of nonzeros: 33\n",
      "  Sense: minimize\n",
      "# ----------------------------------------------------------\n",
      "#   Solver Information\n",
      "# ----------------------------------------------------------\n",
      "Solver: \n",
      "- Status: ok\n",
      "  Termination condition: optimal\n",
      "  Statistics: \n",
      "    Branch and bound: \n",
      "      Number of bounded subproblems: 0\n",
      "      Number of created subproblems: 0\n",
      "  Error rc: 0\n",
      "  Time: 0.040642499923706055\n",
      "# ----------------------------------------------------------\n",
      "#   Solution Information\n",
      "# ----------------------------------------------------------\n",
      "Solution: \n",
      "- number of solutions: 0\n",
      "  number of solutions displayed: 0\n",
      "Objective: 2499.99999999999\n",
      "     gas generator  biomass generator  boiler 0  boiler 1  boiler 2\n",
      "now           50.0                0.0       0.0       0.0       0.0\n",
      "     heat pump 0  heat pump 1  heat pump 2\n",
      "now         10.0     6.666667     3.333333\n",
      "     electric load 0  electric load 1  electric load 2  heat load 0  \\\n",
      "now              0.0             10.0             20.0         30.0   \n",
      "\n",
      "     heat load 1  heat load 2  \n",
      "now         20.0         10.0  \n"
     ]
    }
   ],
   "source": [
    "run_lopf()"
   ]
  },
  {
   "cell_type": "code",
   "execution_count": 41,
   "metadata": {},
   "outputs": [
    {
     "name": "stderr",
     "output_type": "stream",
     "text": [
      "INFO:pypsa.opf:Performed preliminary steps\n",
      "INFO:pypsa.opf:Building pyomo model using `kirchhoff` formulation\n",
      "INFO:pypsa.opf:Solving model using glpk\n"
     ]
    },
    {
     "name": "stdout",
     "output_type": "stream",
     "text": [
      "Solver log file: '/tmp/tmp89g7ehnk.glpk.log'\n",
      "Solver solution file: '/tmp/tmp9r_cfn5n.glpk.raw'\n",
      "Solver problem files: ('/tmp/tmpnwqjji9p.pyomo.lp',)\n"
     ]
    },
    {
     "name": "stderr",
     "output_type": "stream",
     "text": [
      "INFO:pypsa.opf:Optimization successful\n"
     ]
    },
    {
     "name": "stdout",
     "output_type": "stream",
     "text": [
      "# ==========================================================\n",
      "# = Solver Results                                         =\n",
      "# ==========================================================\n",
      "# ----------------------------------------------------------\n",
      "#   Problem Information\n",
      "# ----------------------------------------------------------\n",
      "Problem: \n",
      "- Name: unknown\n",
      "  Lower bound: 2700.00000000001\n",
      "  Upper bound: 2700.00000000001\n",
      "  Number of objectives: 1\n",
      "  Number of constraints: 20\n",
      "  Number of variables: 12\n",
      "  Number of nonzeros: 33\n",
      "  Sense: minimize\n",
      "# ----------------------------------------------------------\n",
      "#   Solver Information\n",
      "# ----------------------------------------------------------\n",
      "Solver: \n",
      "- Status: ok\n",
      "  Termination condition: optimal\n",
      "  Statistics: \n",
      "    Branch and bound: \n",
      "      Number of bounded subproblems: 0\n",
      "      Number of created subproblems: 0\n",
      "  Error rc: 0\n",
      "  Time: 0.037860870361328125\n",
      "# ----------------------------------------------------------\n",
      "#   Solution Information\n",
      "# ----------------------------------------------------------\n",
      "Solution: \n",
      "- number of solutions: 0\n",
      "  number of solutions displayed: 0\n",
      "Objective: 2700.00000000001\n",
      "     gas generator  biomass generator  boiler 0  boiler 1  boiler 2\n",
      "now           30.0                0.0      30.0      20.0      10.0\n",
      "     heat pump 0  heat pump 1  heat pump 2\n",
      "now          0.0          0.0         -0.0\n",
      "     electric load 0  electric load 1  electric load 2  heat load 0  \\\n",
      "now              0.0             10.0             20.0         30.0   \n",
      "\n",
      "     heat load 1  heat load 2  \n",
      "now         20.0         10.0  \n"
     ]
    }
   ],
   "source": [
    "#rerun with marginal costs for the heat pump operation\n",
    "\n",
    "network.links.marginal_cost = 10\n",
    "run_lopf()"
   ]
  },
  {
   "cell_type": "code",
   "execution_count": 42,
   "metadata": {},
   "outputs": [
    {
     "name": "stderr",
     "output_type": "stream",
     "text": [
      "INFO:pypsa.opf:Performed preliminary steps\n",
      "INFO:pypsa.opf:Building pyomo model using `kirchhoff` formulation\n",
      "INFO:pypsa.opf:Solving model using glpk\n"
     ]
    },
    {
     "name": "stdout",
     "output_type": "stream",
     "text": [
      "Solver log file: '/tmp/tmpr60g0zfs.glpk.log'\n",
      "Solver solution file: '/tmp/tmpscpwkh5u.glpk.raw'\n",
      "Solver problem files: ('/tmp/tmpus9n6cln.pyomo.lp',)\n"
     ]
    },
    {
     "name": "stderr",
     "output_type": "stream",
     "text": [
      "INFO:pypsa.opf:Optimization successful\n"
     ]
    },
    {
     "name": "stdout",
     "output_type": "stream",
     "text": [
      "# ==========================================================\n",
      "# = Solver Results                                         =\n",
      "# ==========================================================\n",
      "# ----------------------------------------------------------\n",
      "#   Problem Information\n",
      "# ----------------------------------------------------------\n",
      "Problem: \n",
      "- Name: unknown\n",
      "  Lower bound: 5199.99999999999\n",
      "  Upper bound: 5199.99999999999\n",
      "  Number of objectives: 1\n",
      "  Number of constraints: 21\n",
      "  Number of variables: 12\n",
      "  Number of nonzeros: 37\n",
      "  Sense: minimize\n",
      "# ----------------------------------------------------------\n",
      "#   Solver Information\n",
      "# ----------------------------------------------------------\n",
      "Solver: \n",
      "- Status: ok\n",
      "  Termination condition: optimal\n",
      "  Statistics: \n",
      "    Branch and bound: \n",
      "      Number of bounded subproblems: 0\n",
      "      Number of created subproblems: 0\n",
      "  Error rc: 0\n",
      "  Time: 0.04264473915100098\n",
      "# ----------------------------------------------------------\n",
      "#   Solution Information\n",
      "# ----------------------------------------------------------\n",
      "Solution: \n",
      "- number of solutions: 0\n",
      "  number of solutions displayed: 0\n",
      "Objective: 5199.99999999999\n",
      "     gas generator  biomass generator  boiler 0  boiler 1  boiler 2\n",
      "now            0.0               50.0       0.0       0.0       0.0\n",
      "     heat pump 0  heat pump 1  heat pump 2\n",
      "now         10.0     6.666667     3.333333\n",
      "     electric load 0  electric load 1  electric load 2  heat load 0  \\\n",
      "now              0.0             10.0             20.0         30.0   \n",
      "\n",
      "     heat load 1  heat load 2  \n",
      "now         20.0         10.0  \n"
     ]
    }
   ],
   "source": [
    "#rerun with no CO2 emissions\n",
    "\n",
    "network.add(\"GlobalConstraint\",\n",
    "            \"co2_limit\",\n",
    "            sense=\"<=\",\n",
    "            constant=0.)\n",
    "\n",
    "run_lopf()"
   ]
  },
  {
   "cell_type": "code",
   "execution_count": null,
   "metadata": {},
   "outputs": [],
   "source": []
  }
 ],
 "metadata": {
  "kernelspec": {
   "display_name": "Python 3",
   "language": "python",
   "name": "python3"
  },
  "language_info": {
   "codemirror_mode": {
    "name": "ipython",
    "version": 3
   },
   "file_extension": ".py",
   "mimetype": "text/x-python",
   "name": "python",
   "nbconvert_exporter": "python",
   "pygments_lexer": "ipython3",
   "version": "3.6.9"
  }
 },
 "nbformat": 4,
 "nbformat_minor": 1
}
