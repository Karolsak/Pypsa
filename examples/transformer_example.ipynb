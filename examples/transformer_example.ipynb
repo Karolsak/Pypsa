{
 "cells": [
  {
   "cell_type": "markdown",
   "metadata": {},
   "source": [
    "# Example of transformer with non-trivial phase shift and tap ratio\n",
    "\n",
    "This example is a copy of pandapower's minimal example."
   ]
  },
  {
   "cell_type": "code",
   "execution_count": 1,
   "metadata": {},
   "outputs": [],
   "source": [
    "import pypsa\n",
    "import numpy as np"
   ]
  },
  {
   "cell_type": "code",
   "execution_count": 2,
   "metadata": {},
   "outputs": [],
   "source": [
    "network = pypsa.Network()\n",
    "\n",
    "network.add(\"Bus\",\"MV bus\",v_nom=20,v_mag_pu_set=1.02)\n",
    "network.add(\"Bus\",\"LV1 bus\",v_nom=.4)\n",
    "network.add(\"Bus\",\"LV2 bus\",v_nom=.4)\n",
    "\n",
    "network.add(\"Transformer\",\"MV-LV trafo\",type=\"0.4 MVA 20/0.4 kV\",bus0=\"MV bus\",bus1=\"LV1 bus\")\n",
    "\n",
    "network.add(\"Line\",\"LV cable\",type=\"NAYY 4x50 SE\",bus0=\"LV1 bus\",bus1=\"LV2 bus\",length=0.1)\n",
    "\n",
    "network.add(\"Generator\",\"External Grid\",bus=\"MV bus\",control=\"Slack\")\n",
    "\n",
    "network.add(\"Load\",\"LV load\",bus=\"LV2 bus\",p_set=0.1,q_set=0.05)"
   ]
  },
  {
   "cell_type": "code",
   "execution_count": 3,
   "metadata": {},
   "outputs": [],
   "source": [
    "def run_pf():\n",
    "    network.lpf()\n",
    "    network.pf(use_seed=True)\n",
    "    print(\"Voltage angles:\")\n",
    "    print(network.buses_t.v_ang*180./np.pi)\n",
    "    print(\"Voltage magnitudes:\")\n",
    "    print(network.buses_t.v_mag_pu)"
   ]
  },
  {
   "cell_type": "code",
   "execution_count": 4,
   "metadata": {},
   "outputs": [
    {
     "name": "stderr",
     "output_type": "stream",
     "text": [
      "INFO:numexpr.utils:NumExpr defaulting to 8 threads.\n",
      "INFO:pypsa.pf:Performing linear load-flow on AC sub-network SubNetwork 0 for snapshot(s) Index(['now'], dtype='object')\n",
      "INFO:pypsa.pf:Performing non-linear load-flow on AC sub-network SubNetwork 0 for snapshots Index(['now'], dtype='object')\n",
      "INFO:pypsa.pf:Newton-Raphson solved in 3 iterations with error of 0.000000 in 0.025899 seconds\n"
     ]
    },
    {
     "name": "stdout",
     "output_type": "stream",
     "text": [
      "Voltage angles:\n",
      "     MV bus     LV1 bus     LV2 bus\n",
      "now     0.0 -150.760126 -149.884141\n",
      "Voltage magnitudes:\n",
      "     MV bus   LV1 bus   LV2 bus\n",
      "now    1.02  1.008843  0.964431\n"
     ]
    }
   ],
   "source": [
    "run_pf()"
   ]
  },
  {
   "cell_type": "code",
   "execution_count": 5,
   "metadata": {},
   "outputs": [
    {
     "name": "stderr",
     "output_type": "stream",
     "text": [
      "INFO:pypsa.pf:Performing linear load-flow on AC sub-network SubNetwork 0 for snapshot(s) Index(['now'], dtype='object')\n",
      "INFO:pypsa.pf:Performing non-linear load-flow on AC sub-network SubNetwork 0 for snapshots Index(['now'], dtype='object')\n",
      "INFO:pypsa.pf:Newton-Raphson solved in 3 iterations with error of 0.000000 in 0.024260 seconds\n"
     ]
    },
    {
     "name": "stdout",
     "output_type": "stream",
     "text": [
      "Voltage angles:\n",
      "     MV bus     LV1 bus     LV2 bus\n",
      "now     0.0 -150.843911 -149.870837\n",
      "Voltage magnitudes:\n",
      "     MV bus   LV1 bus   LV2 bus\n",
      "now    1.02  0.959655  0.912713\n"
     ]
    }
   ],
   "source": [
    "network.transformers.tap_position = 2\n",
    "run_pf()"
   ]
  },
  {
   "cell_type": "code",
   "execution_count": 6,
   "metadata": {},
   "outputs": [
    {
     "name": "stderr",
     "output_type": "stream",
     "text": [
      "INFO:pypsa.pf:Performing linear load-flow on AC sub-network SubNetwork 0 for snapshot(s) Index(['now'], dtype='object')\n",
      "INFO:pypsa.pf:Performing non-linear load-flow on AC sub-network SubNetwork 0 for snapshots Index(['now'], dtype='object')\n",
      "INFO:pypsa.pf:Newton-Raphson solved in 3 iterations with error of 0.000000 in 0.021799 seconds\n"
     ]
    },
    {
     "name": "stdout",
     "output_type": "stream",
     "text": [
      "Voltage angles:\n",
      "     MV bus     LV1 bus     LV2 bus\n",
      "now     0.0 -150.681666 -149.896634\n",
      "Voltage magnitudes:\n",
      "     MV bus   LV1 bus   LV2 bus\n",
      "now    1.02  1.063133  1.021202\n"
     ]
    }
   ],
   "source": [
    "network.transformers.tap_position = -2\n",
    "run_pf()"
   ]
  },
  {
   "cell_type": "markdown",
   "metadata": {},
   "source": [
    "## Now play with tap changer on LV side"
   ]
  },
  {
   "cell_type": "code",
   "execution_count": 7,
   "metadata": {},
   "outputs": [
    {
     "data": {
      "text/html": [
       "<div>\n",
       "<table border=\"1\" class=\"dataframe\">\n",
       "  <thead>\n",
       "    <tr style=\"text-align: right;\">\n",
       "      <th>attribute</th>\n",
       "      <th>f_nom</th>\n",
       "      <th>s_nom</th>\n",
       "      <th>v_nom_0</th>\n",
       "      <th>v_nom_1</th>\n",
       "      <th>vsc</th>\n",
       "      <th>vscr</th>\n",
       "      <th>pfe</th>\n",
       "      <th>i0</th>\n",
       "      <th>phase_shift</th>\n",
       "      <th>tap_side</th>\n",
       "      <th>tap_neutral</th>\n",
       "      <th>tap_min</th>\n",
       "      <th>tap_max</th>\n",
       "      <th>tap_step</th>\n",
       "      <th>references</th>\n",
       "    </tr>\n",
       "  </thead>\n",
       "  <tbody>\n",
       "    <tr>\n",
       "      <th>New trafo</th>\n",
       "      <td>50.0</td>\n",
       "      <td>0.4</td>\n",
       "      <td>20.0</td>\n",
       "      <td>0.4</td>\n",
       "      <td>6.0</td>\n",
       "      <td>1.425</td>\n",
       "      <td>1.35</td>\n",
       "      <td>0.3375</td>\n",
       "      <td>150.0</td>\n",
       "      <td>1</td>\n",
       "      <td>0</td>\n",
       "      <td>-2</td>\n",
       "      <td>2</td>\n",
       "      <td>2.5</td>\n",
       "      <td>pandapower;Oswald - Transformatoren - Vorlesun...</td>\n",
       "    </tr>\n",
       "  </tbody>\n",
       "</table>\n",
       "</div>"
      ],
      "text/plain": [
       "attribute  f_nom  s_nom  v_nom_0  v_nom_1  vsc   vscr   pfe      i0  \\\n",
       "New trafo   50.0    0.4     20.0      0.4  6.0  1.425  1.35  0.3375   \n",
       "\n",
       "attribute  phase_shift  tap_side  tap_neutral  tap_min  tap_max  tap_step  \\\n",
       "New trafo        150.0         1            0       -2        2       2.5   \n",
       "\n",
       "attribute                                         references  \n",
       "New trafo  pandapower;Oswald - Transformatoren - Vorlesun...  "
      ]
     },
     "execution_count": 7,
     "metadata": {},
     "output_type": "execute_result"
    }
   ],
   "source": [
    "new_trafo_lv_tap = network.transformer_types.loc[[\"0.4 MVA 20/0.4 kV\"]]\n",
    "new_trafo_lv_tap.index = [\"New trafo\"]\n",
    "new_trafo_lv_tap.tap_side = 1\n",
    "new_trafo_lv_tap"
   ]
  },
  {
   "cell_type": "code",
   "execution_count": 8,
   "metadata": {
    "collapsed": true
   },
   "outputs": [],
   "source": [
    "network.transformer_types = network.transformer_types.append(new_trafo_lv_tap)\n",
    "network.transformers.type = \"New trafo\""
   ]
  },
  {
   "cell_type": "code",
   "execution_count": 9,
   "metadata": {},
   "outputs": [
    {
     "name": "stderr",
     "output_type": "stream",
     "text": [
      "INFO:pypsa.pf:Slack bus for sub-network 0 is MV bus\n",
      "INFO:pypsa.pf:Performing linear load-flow on AC sub-network SubNetwork 0 for snapshot(s) Index([u'now'], dtype='object')\n",
      "INFO:pypsa.pf:Slack bus for sub-network 0 is MV bus\n",
      "INFO:pypsa.pf:Performing non-linear load-flow on AC sub-network SubNetwork 0 for snapshots Index([u'now'], dtype='object')\n",
      "INFO:pypsa.pf:Newton-Raphson solved in 3 iterations with error of 0.000000 in 0.070072 seconds\n"
     ]
    },
    {
     "name": "stdout",
     "output_type": "stream",
     "text": [
      "Voltage angles:\n",
      "     MV bus    LV1 bus     LV2 bus\n",
      "now     0.0 -150.75582 -149.964875\n",
      "Voltage magnitudes:\n",
      "     MV bus   LV1 bus   LV2 bus\n",
      "now    1.02  1.059317  1.017221\n"
     ]
    }
   ],
   "source": [
    "network.transformers.tap_position = 2\n",
    "run_pf()"
   ]
  },
  {
   "cell_type": "code",
   "execution_count": 10,
   "metadata": {},
   "outputs": [
    {
     "name": "stderr",
     "output_type": "stream",
     "text": [
      "INFO:pypsa.pf:Slack bus for sub-network 0 is MV bus\n",
      "INFO:pypsa.pf:Performing linear load-flow on AC sub-network SubNetwork 0 for snapshot(s) Index([u'now'], dtype='object')\n",
      "INFO:pypsa.pf:Slack bus for sub-network 0 is MV bus\n",
      "INFO:pypsa.pf:Performing non-linear load-flow on AC sub-network SubNetwork 0 for snapshots Index([u'now'], dtype='object')\n",
      "INFO:pypsa.pf:Newton-Raphson solved in 3 iterations with error of 0.000000 in 0.036843 seconds\n"
     ]
    },
    {
     "name": "stdout",
     "output_type": "stream",
     "text": [
      "Voltage angles:\n",
      "     MV bus     LV1 bus     LV2 bus\n",
      "now     0.0 -150.765232 -149.789394\n",
      "Voltage magnitudes:\n",
      "     MV bus   LV1 bus   LV2 bus\n",
      "now    1.02  0.958366  0.911353\n"
     ]
    }
   ],
   "source": [
    "network.transformers.tap_position = -2\n",
    "run_pf()"
   ]
  },
  {
   "cell_type": "markdown",
   "metadata": {},
   "source": [
    "## Now make sure that the phase shift is also there in the LOPF"
   ]
  },
  {
   "cell_type": "code",
   "execution_count": 11,
   "metadata": {},
   "outputs": [
    {
     "name": "stderr",
     "output_type": "stream",
     "text": [
      "INFO:pypsa.pf:Slack bus for sub-network 0 is MV bus\n",
      "INFO:pypsa.opf:Performed preliminary steps\n",
      "INFO:pypsa.opf:Building pyomo model using `angles` formulation\n",
      "INFO:pypsa.opf:Solving model using glpk\n",
      "INFO:pypsa.opf:Optimization successful\n"
     ]
    },
    {
     "data": {
      "text/plain": [
       "('ok', 'optimal')"
      ]
     },
     "execution_count": 11,
     "metadata": {},
     "output_type": "execute_result"
    }
   ],
   "source": [
    "network.generators.p_nom = 1.\n",
    "network.lines.s_nom = 1.\n",
    "network.lopf()"
   ]
  },
  {
   "cell_type": "code",
   "execution_count": 12,
   "metadata": {},
   "outputs": [
    {
     "name": "stdout",
     "output_type": "stream",
     "text": [
      "Voltage angles:\n",
      "     MV bus     LV1 bus     LV2 bus\n",
      "now     0.0 -150.793123 -151.090345\n",
      "Voltage magnitudes:\n",
      "     MV bus  LV1 bus  LV2 bus\n",
      "now     1.0      1.0      1.0\n"
     ]
    }
   ],
   "source": [
    "print(\"Voltage angles:\")\n",
    "print(network.buses_t.v_ang*180./np.pi)\n",
    "print(\"Voltage magnitudes:\")\n",
    "print(network.buses_t.v_mag_pu)"
   ]
  }
 ],
 "metadata": {
  "kernelspec": {
   "display_name": "Python 3",
   "language": "python",
   "name": "python3"
  },
  "language_info": {
   "codemirror_mode": {
    "name": "ipython",
    "version": 3
   },
   "file_extension": ".py",
   "mimetype": "text/x-python",
   "name": "python",
   "nbconvert_exporter": "python",
   "pygments_lexer": "ipython3",
   "version": "3.6.9"
  }
 },
 "nbformat": 4,
 "nbformat_minor": 1
}
