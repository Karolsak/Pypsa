{
 "cells": [
  {
   "cell_type": "code",
   "execution_count": 33,
   "metadata": {},
   "outputs": [],
   "source": [
    "import pypsa\n",
    "import pandas as pd\n",
    "import os"
   ]
  },
  {
   "cell_type": "code",
   "execution_count": 34,
   "metadata": {},
   "outputs": [
    {
     "name": "stderr",
     "output_type": "stream",
     "text": [
      "WARNING:pypsa.io:\n",
      "Importing PyPSA from older version of PyPSA than current version 0.16.0.\n",
      "Please read the release notes at https://pypsa.org/doc/release_notes.html\n",
      "carefully to prepare your network for import.\n",
      "\n",
      "INFO:pypsa.io:Imported network ac-dc-data has buses, carriers, generators, global_constraints, lines, links, loads\n"
     ]
    }
   ],
   "source": [
    "path = os.path.join('ac-dc-meshed', 'ac-dc-data')\n",
    "n = pypsa.Network(path)"
   ]
  },
  {
   "cell_type": "markdown",
   "metadata": {},
   "source": [
    "# Modify the network a bit"
   ]
  },
  {
   "cell_type": "markdown",
   "metadata": {},
   "source": [
    "### Set gas generators to non-extendable"
   ]
  },
  {
   "cell_type": "code",
   "execution_count": 35,
   "metadata": {},
   "outputs": [],
   "source": [
    "n.generators.loc[n.generators.carrier == 'gas', 'p_nom_extendable'] = False"
   ]
  },
  {
   "cell_type": "markdown",
   "metadata": {},
   "source": [
    "### Add ramp limit"
   ]
  },
  {
   "cell_type": "code",
   "execution_count": 36,
   "metadata": {},
   "outputs": [],
   "source": [
    "n.generators.loc[n.generators.carrier == 'gas', 'ramp_limit_down'] = 0.2\n",
    "n.generators.loc[n.generators.carrier == 'gas', 'ramp_limit_up'] = 0.2"
   ]
  },
  {
   "cell_type": "markdown",
   "metadata": {},
   "source": [
    "### Add additional storage units (cyclic and non-cyclic) and fix one state_of_charge"
   ]
  },
  {
   "cell_type": "code",
   "execution_count": 37,
   "metadata": {},
   "outputs": [],
   "source": [
    "n.add('StorageUnit', 'su', bus='Manchester', marginal_cost=10, inflow=50,\n",
    "      p_nom_extendable=True, capital_cost=10, p_nom=2000,\n",
    "      efficiency_dispatch=0.5,\n",
    "      cyclic_state_of_charge=True, state_of_charge_initial=1000)\n",
    "\n",
    "n.add('StorageUnit', 'su2', bus='Manchester', marginal_cost=10,\n",
    "      p_nom_extendable=True, capital_cost=50, p_nom=2000,\n",
    "      efficiency_dispatch=0.5, carrier='gas',\n",
    "      cyclic_state_of_charge=False, state_of_charge_initial=1000)\n",
    "\n",
    "n.storage_units_t.state_of_charge_set.loc[n.snapshots[7], 'su'] = 100"
   ]
  },
  {
   "cell_type": "markdown",
   "metadata": {},
   "source": [
    "### Add additional store"
   ]
  },
  {
   "cell_type": "code",
   "execution_count": 16,
   "metadata": {},
   "outputs": [
    {
     "name": "stderr",
     "output_type": "stream",
     "text": [
      "INFO:numexpr.utils:NumExpr defaulting to 8 threads.\n"
     ]
    },
    {
     "data": {
      "text/plain": [
       "Index(['store'], dtype='object')"
      ]
     },
     "execution_count": 16,
     "metadata": {},
     "output_type": "execute_result"
    }
   ],
   "source": [
    "n.add('Bus', 'storebus', carrier='hydro', x=-5, y=55)\n",
    "n.madd('Link', ['battery_power', 'battery_discharge'], '',\n",
    "       bus0=['Manchester', 'storebus'], bus1=['storebus', 'Manchester'],\n",
    "       p_nom=100, efficiency=.9, p_nom_extendable=True, p_nom_max=1000)\n",
    "n.madd('Store', ['store'], bus='storebus', e_nom=2000, e_nom_extendable=True,\n",
    "       marginal_cost=10, capital_cost=10, e_nom_max=5000, e_initial=100,\n",
    "       e_cyclic=True)"
   ]
  },
  {
   "cell_type": "markdown",
   "metadata": {},
   "source": [
    "## Extra functionalities:"
   ]
  },
  {
   "cell_type": "code",
   "execution_count": 17,
   "metadata": {},
   "outputs": [],
   "source": [
    "from pypsa.linopt import get_var, linexpr, join_exprs, define_constraints "
   ]
  },
  {
   "cell_type": "markdown",
   "metadata": {},
   "source": [
    "One of the most important functions is linexpr which take one or more tuples of coefficient and variable pairs which should go into the left hand side (lhs) of the constraint. "
   ]
  },
  {
   "cell_type": "markdown",
   "metadata": {},
   "source": [
    "### 1. Add mimimum for state_of_charge"
   ]
  },
  {
   "cell_type": "code",
   "execution_count": 18,
   "metadata": {},
   "outputs": [],
   "source": [
    "def minimal_state_of_charge(n, snapshots):\n",
    "    vars_soc = get_var(n, 'StorageUnit', 'state_of_charge')\n",
    "    lhs = linexpr((1, vars_soc))\n",
    "    define_constraints(n, lhs, '>', 50, 'StorageUnit', 'soc_lower_bound')"
   ]
  },
  {
   "cell_type": "markdown",
   "metadata": {},
   "source": [
    "### 2. Fix the ratio between ingoing and outgoing capacity of the Store"
   ]
  },
  {
   "cell_type": "code",
   "execution_count": 19,
   "metadata": {},
   "outputs": [],
   "source": [
    "def fix_link_cap_ratio(n, snapshots):\n",
    "    vars_link = get_var(n, 'Link', 'p_nom')\n",
    "    eff = n.links.at['battery_power', 'efficiency']\n",
    "    lhs = linexpr((1, vars_link['battery_power']), (-eff, vars_link['battery_discharge']))\n",
    "    define_constraints(n, lhs, '=', 0, 'battery_discharge', attr='fixratio')"
   ]
  },
  {
   "cell_type": "markdown",
   "metadata": {},
   "source": [
    "### 3. Every bus must in total produce the 20% of the total demand\n",
    "\n",
    "This requires the function `pypsa.linopt.join_exprs` which sums up arrays of linear expressions"
   ]
  },
  {
   "cell_type": "code",
   "execution_count": 20,
   "metadata": {},
   "outputs": [],
   "source": [
    "def fix_bus_production(n, snapshots):\n",
    "    total_demand = n.loads_t.p_set.sum().sum() \n",
    "    prod_per_bus = linexpr((1, get_var(n, 'Generator', 'p'))).groupby(n.generators.bus, axis=1).apply(join_exprs)\n",
    "    define_constraints(n, prod_per_bus, '>=', total_demand/5, 'Bus', 'production_share')"
   ]
  },
  {
   "cell_type": "markdown",
   "metadata": {},
   "source": [
    "### Combine them ..."
   ]
  },
  {
   "cell_type": "code",
   "execution_count": 21,
   "metadata": {},
   "outputs": [],
   "source": [
    "def extra_functionalities(n, snapshots):\n",
    "    minimal_state_of_charge(n, snapshots)\n",
    "    fix_link_cap_ratio(n, snapshots)\n",
    "    fix_bus_production(n, snapshots)"
   ]
  },
  {
   "cell_type": "markdown",
   "metadata": {},
   "source": [
    "### ...and run the lopf with `pyomo=False`"
   ]
  },
  {
   "cell_type": "code",
   "execution_count": 22,
   "metadata": {},
   "outputs": [
    {
     "name": "stderr",
     "output_type": "stream",
     "text": [
      "INFO:pypsa.linopf:Prepare linear problem\n",
      "INFO:pypsa.linopf:Total preparation time: 1.27s\n",
      "INFO:pypsa.linopf:Solve linear problem using Glpk solver\n",
      "INFO:pypsa.linopf:Optimization successful. Objective value: 1.43e+07\n"
     ]
    },
    {
     "data": {
      "text/plain": [
       "('ok', 'optimal')"
      ]
     },
     "execution_count": 22,
     "metadata": {},
     "output_type": "execute_result"
    }
   ],
   "source": [
    "n.lopf(pyomo=False, extra_functionality=extra_functionalities, \n",
    "      keep_shadowprices=['Bus', 'battery_discharge', 'StorageUnit'])"
   ]
  },
  {
   "cell_type": "markdown",
   "metadata": {},
   "source": [
    "The `keep_shadowprices` argument in the lopf now decides which shadow prices (SP) should be retrieved. It can either be set to `True`, then all SP are kept. It also can be a list of names of the constraints. Therefore the `name` argument in `define_constraints` is necessary, in our case 'battery_discharge', 'StorageUnit' and 'Bus'. "
   ]
  },
  {
   "cell_type": "markdown",
   "metadata": {},
   "source": [
    "# Analysing the constraints"
   ]
  },
  {
   "cell_type": "markdown",
   "metadata": {},
   "source": [
    "Let's see if the system got our own constraints. We look at `n.constraints` which combines summarises constraints going into the linear problem"
   ]
  },
  {
   "cell_type": "code",
   "execution_count": 23,
   "metadata": {},
   "outputs": [
    {
     "data": {
      "text/html": [
       "<div>\n",
       "<style scoped>\n",
       "    .dataframe tbody tr th:only-of-type {\n",
       "        vertical-align: middle;\n",
       "    }\n",
       "\n",
       "    .dataframe tbody tr th {\n",
       "        vertical-align: top;\n",
       "    }\n",
       "\n",
       "    .dataframe thead th {\n",
       "        text-align: right;\n",
       "    }\n",
       "</style>\n",
       "<table border=\"1\" class=\"dataframe\">\n",
       "  <thead>\n",
       "    <tr style=\"text-align: right;\">\n",
       "      <th></th>\n",
       "      <th></th>\n",
       "      <th>pnl</th>\n",
       "      <th>specification</th>\n",
       "    </tr>\n",
       "    <tr>\n",
       "      <th>component</th>\n",
       "      <th>name</th>\n",
       "      <th></th>\n",
       "      <th></th>\n",
       "    </tr>\n",
       "  </thead>\n",
       "  <tbody>\n",
       "    <tr>\n",
       "      <th rowspan=\"2\" valign=\"top\">Generator</th>\n",
       "      <th>mu_upper</th>\n",
       "      <td>True</td>\n",
       "      <td>p</td>\n",
       "    </tr>\n",
       "    <tr>\n",
       "      <th>mu_lower</th>\n",
       "      <td>True</td>\n",
       "      <td>p</td>\n",
       "    </tr>\n",
       "    <tr>\n",
       "      <th rowspan=\"2\" valign=\"top\">Line</th>\n",
       "      <th>mu_upper</th>\n",
       "      <td>True</td>\n",
       "      <td>s</td>\n",
       "    </tr>\n",
       "    <tr>\n",
       "      <th>mu_lower</th>\n",
       "      <td>True</td>\n",
       "      <td>s</td>\n",
       "    </tr>\n",
       "    <tr>\n",
       "      <th rowspan=\"2\" valign=\"top\">Link</th>\n",
       "      <th>mu_upper</th>\n",
       "      <td>True</td>\n",
       "      <td>p</td>\n",
       "    </tr>\n",
       "    <tr>\n",
       "      <th>mu_lower</th>\n",
       "      <td>True</td>\n",
       "      <td>p</td>\n",
       "    </tr>\n",
       "    <tr>\n",
       "      <th rowspan=\"2\" valign=\"top\">Store</th>\n",
       "      <th>mu_upper</th>\n",
       "      <td>True</td>\n",
       "      <td>e</td>\n",
       "    </tr>\n",
       "    <tr>\n",
       "      <th>mu_lower</th>\n",
       "      <td>True</td>\n",
       "      <td>e</td>\n",
       "    </tr>\n",
       "    <tr>\n",
       "      <th rowspan=\"3\" valign=\"top\">StorageUnit</th>\n",
       "      <th>mu_upper</th>\n",
       "      <td>True</td>\n",
       "      <td>p_dispatch, p_store, state_of_charge</td>\n",
       "    </tr>\n",
       "    <tr>\n",
       "      <th>mu_lower</th>\n",
       "      <td>True</td>\n",
       "      <td>p_dispatch, p_store, state_of_charge</td>\n",
       "    </tr>\n",
       "    <tr>\n",
       "      <th>mu_state_of_charge_set</th>\n",
       "      <td>True</td>\n",
       "      <td></td>\n",
       "    </tr>\n",
       "    <tr>\n",
       "      <th rowspan=\"2\" valign=\"top\">Generator</th>\n",
       "      <th>mu_ramp_limit_up</th>\n",
       "      <td>True</td>\n",
       "      <td>nonext.</td>\n",
       "    </tr>\n",
       "    <tr>\n",
       "      <th>mu_ramp_limit_down</th>\n",
       "      <td>True</td>\n",
       "      <td>nonext.</td>\n",
       "    </tr>\n",
       "    <tr>\n",
       "      <th>StorageUnit</th>\n",
       "      <th>mu_state_of_charge</th>\n",
       "      <td>True</td>\n",
       "      <td></td>\n",
       "    </tr>\n",
       "    <tr>\n",
       "      <th>Store</th>\n",
       "      <th>mu_state_of_charge</th>\n",
       "      <td>True</td>\n",
       "      <td></td>\n",
       "    </tr>\n",
       "    <tr>\n",
       "      <th>SubNetwork</th>\n",
       "      <th>mu_kirchhoff_voltage_law</th>\n",
       "      <td>True</td>\n",
       "      <td></td>\n",
       "    </tr>\n",
       "    <tr>\n",
       "      <th>Bus</th>\n",
       "      <th>marginal_price</th>\n",
       "      <td>True</td>\n",
       "      <td></td>\n",
       "    </tr>\n",
       "    <tr>\n",
       "      <th>GlobalConstraint</th>\n",
       "      <th>mu</th>\n",
       "      <td>False</td>\n",
       "      <td>co2_limit</td>\n",
       "    </tr>\n",
       "    <tr>\n",
       "      <th>StorageUnit</th>\n",
       "      <th>soc_lower_bound</th>\n",
       "      <td>True</td>\n",
       "      <td></td>\n",
       "    </tr>\n",
       "    <tr>\n",
       "      <th>battery_discharge</th>\n",
       "      <th>fixratio</th>\n",
       "      <td>False</td>\n",
       "      <td></td>\n",
       "    </tr>\n",
       "    <tr>\n",
       "      <th>Bus</th>\n",
       "      <th>production_share</th>\n",
       "      <td>False</td>\n",
       "      <td></td>\n",
       "    </tr>\n",
       "  </tbody>\n",
       "</table>\n",
       "</div>"
      ],
      "text/plain": [
       "                                              pnl  \\\n",
       "component         name                              \n",
       "Generator         mu_upper                   True   \n",
       "                  mu_lower                   True   \n",
       "Line              mu_upper                   True   \n",
       "                  mu_lower                   True   \n",
       "Link              mu_upper                   True   \n",
       "                  mu_lower                   True   \n",
       "Store             mu_upper                   True   \n",
       "                  mu_lower                   True   \n",
       "StorageUnit       mu_upper                   True   \n",
       "                  mu_lower                   True   \n",
       "                  mu_state_of_charge_set     True   \n",
       "Generator         mu_ramp_limit_up           True   \n",
       "                  mu_ramp_limit_down         True   \n",
       "StorageUnit       mu_state_of_charge         True   \n",
       "Store             mu_state_of_charge         True   \n",
       "SubNetwork        mu_kirchhoff_voltage_law   True   \n",
       "Bus               marginal_price             True   \n",
       "GlobalConstraint  mu                        False   \n",
       "StorageUnit       soc_lower_bound            True   \n",
       "battery_discharge fixratio                  False   \n",
       "Bus               production_share          False   \n",
       "\n",
       "                                                                   specification  \n",
       "component         name                                                            \n",
       "Generator         mu_upper                                                     p  \n",
       "                  mu_lower                                                     p  \n",
       "Line              mu_upper                                                     s  \n",
       "                  mu_lower                                                     s  \n",
       "Link              mu_upper                                                     p  \n",
       "                  mu_lower                                                     p  \n",
       "Store             mu_upper                                                     e  \n",
       "                  mu_lower                                                     e  \n",
       "StorageUnit       mu_upper                  p_dispatch, p_store, state_of_charge  \n",
       "                  mu_lower                  p_dispatch, p_store, state_of_charge  \n",
       "                  mu_state_of_charge_set                                          \n",
       "Generator         mu_ramp_limit_up                                       nonext.  \n",
       "                  mu_ramp_limit_down                                     nonext.  \n",
       "StorageUnit       mu_state_of_charge                                              \n",
       "Store             mu_state_of_charge                                              \n",
       "SubNetwork        mu_kirchhoff_voltage_law                                        \n",
       "Bus               marginal_price                                                  \n",
       "GlobalConstraint  mu                                                   co2_limit  \n",
       "StorageUnit       soc_lower_bound                                                 \n",
       "battery_discharge fixratio                                                        \n",
       "Bus               production_share                                                "
      ]
     },
     "execution_count": 23,
     "metadata": {},
     "output_type": "execute_result"
    }
   ],
   "source": [
    "n.constraints"
   ]
  },
  {
   "cell_type": "markdown",
   "metadata": {},
   "source": [
    "The last three entries show our constraints. As 'soc_lower_bound' is time-dependent, the `pnl` value is set to `True`. \n",
    "\n",
    "Let's check whether out two custom constraint are fulfilled:"
   ]
  },
  {
   "cell_type": "code",
   "execution_count": 24,
   "metadata": {},
   "outputs": [
    {
     "data": {
      "text/html": [
       "<div>\n",
       "<style scoped>\n",
       "    .dataframe tbody tr th:only-of-type {\n",
       "        vertical-align: middle;\n",
       "    }\n",
       "\n",
       "    .dataframe tbody tr th {\n",
       "        vertical-align: top;\n",
       "    }\n",
       "\n",
       "    .dataframe thead th {\n",
       "        text-align: right;\n",
       "    }\n",
       "</style>\n",
       "<table border=\"1\" class=\"dataframe\">\n",
       "  <thead>\n",
       "    <tr style=\"text-align: right;\">\n",
       "      <th></th>\n",
       "      <th>p_nom_opt</th>\n",
       "    </tr>\n",
       "  </thead>\n",
       "  <tbody>\n",
       "    <tr>\n",
       "      <th>battery_power</th>\n",
       "      <td>900.0</td>\n",
       "    </tr>\n",
       "    <tr>\n",
       "      <th>battery_discharge</th>\n",
       "      <td>1000.0</td>\n",
       "    </tr>\n",
       "  </tbody>\n",
       "</table>\n",
       "</div>"
      ],
      "text/plain": [
       "                   p_nom_opt\n",
       "battery_power          900.0\n",
       "battery_discharge     1000.0"
      ]
     },
     "execution_count": 24,
     "metadata": {},
     "output_type": "execute_result"
    }
   ],
   "source": [
    "n.links.loc[['battery_power', 'battery_discharge'], ['p_nom_opt']]"
   ]
  },
  {
   "cell_type": "code",
   "execution_count": 25,
   "metadata": {},
   "outputs": [
    {
     "data": {
      "text/html": [
       "<div>\n",
       "<style scoped>\n",
       "    .dataframe tbody tr th:only-of-type {\n",
       "        vertical-align: middle;\n",
       "    }\n",
       "\n",
       "    .dataframe tbody tr th {\n",
       "        vertical-align: top;\n",
       "    }\n",
       "\n",
       "    .dataframe thead th {\n",
       "        text-align: right;\n",
       "    }\n",
       "</style>\n",
       "<table border=\"1\" class=\"dataframe\">\n",
       "  <thead>\n",
       "    <tr style=\"text-align: right;\">\n",
       "      <th></th>\n",
       "      <th>su</th>\n",
       "      <th>su2</th>\n",
       "    </tr>\n",
       "    <tr>\n",
       "      <th>name</th>\n",
       "      <th></th>\n",
       "      <th></th>\n",
       "    </tr>\n",
       "  </thead>\n",
       "  <tbody>\n",
       "    <tr>\n",
       "      <th>2015-01-01 00:00:00</th>\n",
       "      <td>1835.74</td>\n",
       "      <td>1000.000</td>\n",
       "    </tr>\n",
       "    <tr>\n",
       "      <th>2015-01-01 01:00:00</th>\n",
       "      <td>1326.16</td>\n",
       "      <td>1000.000</td>\n",
       "    </tr>\n",
       "    <tr>\n",
       "      <th>2015-01-01 02:00:00</th>\n",
       "      <td>1376.16</td>\n",
       "      <td>1000.000</td>\n",
       "    </tr>\n",
       "    <tr>\n",
       "      <th>2015-01-01 03:00:00</th>\n",
       "      <td>1426.16</td>\n",
       "      <td>1000.000</td>\n",
       "    </tr>\n",
       "    <tr>\n",
       "      <th>2015-01-01 04:00:00</th>\n",
       "      <td>1986.06</td>\n",
       "      <td>1000.000</td>\n",
       "    </tr>\n",
       "    <tr>\n",
       "      <th>2015-01-01 05:00:00</th>\n",
       "      <td>50.00</td>\n",
       "      <td>50.000</td>\n",
       "    </tr>\n",
       "    <tr>\n",
       "      <th>2015-01-01 06:00:00</th>\n",
       "      <td>50.00</td>\n",
       "      <td>50.000</td>\n",
       "    </tr>\n",
       "    <tr>\n",
       "      <th>2015-01-01 07:00:00</th>\n",
       "      <td>100.00</td>\n",
       "      <td>156.727</td>\n",
       "    </tr>\n",
       "    <tr>\n",
       "      <th>2015-01-01 08:00:00</th>\n",
       "      <td>50.00</td>\n",
       "      <td>140.120</td>\n",
       "    </tr>\n",
       "    <tr>\n",
       "      <th>2015-01-01 09:00:00</th>\n",
       "      <td>50.00</td>\n",
       "      <td>50.000</td>\n",
       "    </tr>\n",
       "  </tbody>\n",
       "</table>\n",
       "</div>"
      ],
      "text/plain": [
       "                          su       su2\n",
       "name                                  \n",
       "2015-01-01 00:00:00  1835.74  1000.000\n",
       "2015-01-01 01:00:00  1326.16  1000.000\n",
       "2015-01-01 02:00:00  1376.16  1000.000\n",
       "2015-01-01 03:00:00  1426.16  1000.000\n",
       "2015-01-01 04:00:00  1986.06  1000.000\n",
       "2015-01-01 05:00:00    50.00    50.000\n",
       "2015-01-01 06:00:00    50.00    50.000\n",
       "2015-01-01 07:00:00   100.00   156.727\n",
       "2015-01-01 08:00:00    50.00   140.120\n",
       "2015-01-01 09:00:00    50.00    50.000"
      ]
     },
     "execution_count": 25,
     "metadata": {},
     "output_type": "execute_result"
    }
   ],
   "source": [
    "n.storage_units_t.state_of_charge"
   ]
  },
  {
   "cell_type": "code",
   "execution_count": 26,
   "metadata": {},
   "outputs": [
    {
     "data": {
      "text/plain": [
       "bus\n",
       "Frankfurt     0.200000\n",
       "Manchester    0.200000\n",
       "Norway        0.637047\n",
       "dtype: float64"
      ]
     },
     "execution_count": 26,
     "metadata": {},
     "output_type": "execute_result"
    }
   ],
   "source": [
    "n.generators_t.p.groupby(n.generators.bus, axis=1).sum().sum()/n.loads_t.p.sum().sum()"
   ]
  },
  {
   "cell_type": "markdown",
   "metadata": {},
   "source": [
    "Looks good! Now, let's see which dual values were parsed. Therefore we have a look into `n.dualvalues` \n"
   ]
  },
  {
   "cell_type": "code",
   "execution_count": 27,
   "metadata": {},
   "outputs": [
    {
     "data": {
      "text/html": [
       "<div>\n",
       "<style scoped>\n",
       "    .dataframe tbody tr th:only-of-type {\n",
       "        vertical-align: middle;\n",
       "    }\n",
       "\n",
       "    .dataframe tbody tr th {\n",
       "        vertical-align: top;\n",
       "    }\n",
       "\n",
       "    .dataframe thead th {\n",
       "        text-align: right;\n",
       "    }\n",
       "</style>\n",
       "<table border=\"1\" class=\"dataframe\">\n",
       "  <thead>\n",
       "    <tr style=\"text-align: right;\">\n",
       "      <th></th>\n",
       "      <th></th>\n",
       "      <th>in_comp</th>\n",
       "      <th>pnl</th>\n",
       "    </tr>\n",
       "    <tr>\n",
       "      <th>component</th>\n",
       "      <th>name</th>\n",
       "      <th></th>\n",
       "      <th></th>\n",
       "    </tr>\n",
       "  </thead>\n",
       "  <tbody>\n",
       "    <tr>\n",
       "      <th rowspan=\"4\" valign=\"top\">StorageUnit</th>\n",
       "      <th>mu_upper</th>\n",
       "      <td>True</td>\n",
       "      <td>True</td>\n",
       "    </tr>\n",
       "    <tr>\n",
       "      <th>mu_lower</th>\n",
       "      <td>True</td>\n",
       "      <td>True</td>\n",
       "    </tr>\n",
       "    <tr>\n",
       "      <th>mu_state_of_charge_set</th>\n",
       "      <td>True</td>\n",
       "      <td>True</td>\n",
       "    </tr>\n",
       "    <tr>\n",
       "      <th>mu_state_of_charge</th>\n",
       "      <td>True</td>\n",
       "      <td>True</td>\n",
       "    </tr>\n",
       "    <tr>\n",
       "      <th>Bus</th>\n",
       "      <th>marginal_price</th>\n",
       "      <td>True</td>\n",
       "      <td>True</td>\n",
       "    </tr>\n",
       "    <tr>\n",
       "      <th>StorageUnit</th>\n",
       "      <th>soc_lower_bound</th>\n",
       "      <td>True</td>\n",
       "      <td>True</td>\n",
       "    </tr>\n",
       "    <tr>\n",
       "      <th>battery_discharge</th>\n",
       "      <th>fixratio</th>\n",
       "      <td>False</td>\n",
       "      <td>False</td>\n",
       "    </tr>\n",
       "    <tr>\n",
       "      <th>Bus</th>\n",
       "      <th>production_share</th>\n",
       "      <td>True</td>\n",
       "      <td>False</td>\n",
       "    </tr>\n",
       "  </tbody>\n",
       "</table>\n",
       "</div>"
      ],
      "text/plain": [
       "                                         in_comp    pnl\n",
       "component         name                                 \n",
       "StorageUnit       mu_upper                  True   True\n",
       "                  mu_lower                  True   True\n",
       "                  mu_state_of_charge_set    True   True\n",
       "                  mu_state_of_charge        True   True\n",
       "Bus               marginal_price            True   True\n",
       "StorageUnit       soc_lower_bound           True   True\n",
       "battery_discharge fixratio                 False  False\n",
       "Bus               production_share          True  False"
      ]
     },
     "execution_count": 27,
     "metadata": {},
     "output_type": "execute_result"
    }
   ],
   "source": [
    "n.dualvalues"
   ]
  },
  {
   "cell_type": "markdown",
   "metadata": {},
   "source": [
    "Again we see the last two entries reflect our constraints (the values in the columns play only a minor role). Having a look what the values are:"
   ]
  },
  {
   "cell_type": "code",
   "execution_count": 28,
   "metadata": {},
   "outputs": [],
   "source": [
    "from pypsa.linopt import get_dual"
   ]
  },
  {
   "cell_type": "code",
   "execution_count": 29,
   "metadata": {
    "scrolled": true
   },
   "outputs": [
    {
     "data": {
      "text/html": [
       "<div>\n",
       "<style scoped>\n",
       "    .dataframe tbody tr th:only-of-type {\n",
       "        vertical-align: middle;\n",
       "    }\n",
       "\n",
       "    .dataframe tbody tr th {\n",
       "        vertical-align: top;\n",
       "    }\n",
       "\n",
       "    .dataframe thead th {\n",
       "        text-align: right;\n",
       "    }\n",
       "</style>\n",
       "<table border=\"1\" class=\"dataframe\">\n",
       "  <thead>\n",
       "    <tr style=\"text-align: right;\">\n",
       "      <th></th>\n",
       "      <th>su</th>\n",
       "      <th>su2</th>\n",
       "    </tr>\n",
       "    <tr>\n",
       "      <th>name</th>\n",
       "      <th></th>\n",
       "      <th></th>\n",
       "    </tr>\n",
       "  </thead>\n",
       "  <tbody>\n",
       "    <tr>\n",
       "      <th>2015-01-01 00:00:00</th>\n",
       "      <td>-0.00000</td>\n",
       "      <td>-0.00000</td>\n",
       "    </tr>\n",
       "    <tr>\n",
       "      <th>2015-01-01 01:00:00</th>\n",
       "      <td>-0.00000</td>\n",
       "      <td>-0.00000</td>\n",
       "    </tr>\n",
       "    <tr>\n",
       "      <th>2015-01-01 02:00:00</th>\n",
       "      <td>-0.00000</td>\n",
       "      <td>-0.00000</td>\n",
       "    </tr>\n",
       "    <tr>\n",
       "      <th>2015-01-01 03:00:00</th>\n",
       "      <td>-0.00000</td>\n",
       "      <td>-0.00000</td>\n",
       "    </tr>\n",
       "    <tr>\n",
       "      <th>2015-01-01 04:00:00</th>\n",
       "      <td>-0.00000</td>\n",
       "      <td>-0.00000</td>\n",
       "    </tr>\n",
       "    <tr>\n",
       "      <th>2015-01-01 05:00:00</th>\n",
       "      <td>-0.00000</td>\n",
       "      <td>-0.00000</td>\n",
       "    </tr>\n",
       "    <tr>\n",
       "      <th>2015-01-01 06:00:00</th>\n",
       "      <td>-157.42300</td>\n",
       "      <td>-4.44444</td>\n",
       "    </tr>\n",
       "    <tr>\n",
       "      <th>2015-01-01 07:00:00</th>\n",
       "      <td>-0.00000</td>\n",
       "      <td>-0.00000</td>\n",
       "    </tr>\n",
       "    <tr>\n",
       "      <th>2015-01-01 08:00:00</th>\n",
       "      <td>-0.00000</td>\n",
       "      <td>-0.00000</td>\n",
       "    </tr>\n",
       "    <tr>\n",
       "      <th>2015-01-01 09:00:00</th>\n",
       "      <td>-5.55556</td>\n",
       "      <td>-67.84860</td>\n",
       "    </tr>\n",
       "  </tbody>\n",
       "</table>\n",
       "</div>"
      ],
      "text/plain": [
       "                            su       su2\n",
       "name                                    \n",
       "2015-01-01 00:00:00   -0.00000  -0.00000\n",
       "2015-01-01 01:00:00   -0.00000  -0.00000\n",
       "2015-01-01 02:00:00   -0.00000  -0.00000\n",
       "2015-01-01 03:00:00   -0.00000  -0.00000\n",
       "2015-01-01 04:00:00   -0.00000  -0.00000\n",
       "2015-01-01 05:00:00   -0.00000  -0.00000\n",
       "2015-01-01 06:00:00 -157.42300  -4.44444\n",
       "2015-01-01 07:00:00   -0.00000  -0.00000\n",
       "2015-01-01 08:00:00   -0.00000  -0.00000\n",
       "2015-01-01 09:00:00   -5.55556 -67.84860"
      ]
     },
     "execution_count": 29,
     "metadata": {},
     "output_type": "execute_result"
    }
   ],
   "source": [
    "get_dual(n, 'StorageUnit', 'soc_lower_bound')"
   ]
  },
  {
   "cell_type": "code",
   "execution_count": 30,
   "metadata": {},
   "outputs": [
    {
     "data": {
      "text/plain": [
       "0    567.89\n",
       "Name: fixratio, dtype: float64"
      ]
     },
     "execution_count": 30,
     "metadata": {},
     "output_type": "execute_result"
    }
   ],
   "source": [
    "get_dual(n, 'battery_discharge', 'fixratio')"
   ]
  },
  {
   "cell_type": "code",
   "execution_count": 31,
   "metadata": {},
   "outputs": [
    {
     "data": {
      "text/plain": [
       "London            NaN\n",
       "Norwich           NaN\n",
       "Norwich DC        NaN\n",
       "Manchester   -45.4185\n",
       "Bremen            NaN\n",
       "Bremen DC         NaN\n",
       "Frankfurt    -35.2007\n",
       "Norway        -0.0000\n",
       "Norway DC         NaN\n",
       "storebus          NaN\n",
       "Name: production_share, dtype: float64"
      ]
     },
     "execution_count": 31,
     "metadata": {},
     "output_type": "execute_result"
    }
   ],
   "source": [
    "get_dual(n, 'Bus', 'production_share')"
   ]
  },
  {
   "cell_type": "markdown",
   "metadata": {},
   "source": [
    "### Side note\n",
    "Some of the predefined constraints are stored in components itself like `n.lines_t.mu_upper` or `n.buses_t.marginal_price`, this is the case if their are designated columns are spots for those. All other dual are under the hook stored in `n.duals`"
   ]
  },
  {
   "cell_type": "code",
   "execution_count": null,
   "metadata": {},
   "outputs": [],
   "source": []
  }
 ],
 "metadata": {
  "@webio": {
   "lastCommId": null,
   "lastKernelId": null
  },
  "kernelspec": {
   "display_name": "Python 3",
   "language": "python",
   "name": "python3"
  },
  "language_info": {
   "codemirror_mode": {
    "name": "ipython",
    "version": 3
   },
   "file_extension": ".py",
   "mimetype": "text/x-python",
   "name": "python",
   "nbconvert_exporter": "python",
   "pygments_lexer": "ipython3",
   "version": "3.6.9"
  }
 },
 "nbformat": 4,
 "nbformat_minor": 2
}
