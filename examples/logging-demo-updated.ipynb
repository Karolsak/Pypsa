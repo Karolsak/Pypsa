{
 "cells": [
  {
   "cell_type": "markdown",
   "metadata": {},
   "source": [
    "# Demonstrate usage of logging\n",
    "\n",
    "PyPSA uses the Python standard library [logging](https://docs.python.org/3/library/logging.html).\n",
    "\n",
    "This script shows how to use it and control the logging messages from different modules.\n",
    "\n",
    "Available as a Jupyter notebook at http://www.pypsa.org/examples/logging-demo.ipynb.\n"
   ]
  },
  {
   "cell_type": "code",
   "execution_count": 1,
   "metadata": {},
   "outputs": [],
   "source": [
    "#logging.basicConfig() needs to be called BEFORE importing PyPSA\n",
    "\n",
    "#The reason is that logging.basicConfig() can only be called\n",
    "#once, and it is already called in pypsa.__init__.py; further\n",
    "#calls are ignored.\n",
    "\n",
    "#Choices are ERROR, WARNING, INFO, DEBUG\n",
    "\n",
    "import logging\n",
    "logging.basicConfig(level=logging.ERROR)\n",
    "\n",
    "import pypsa, os"
   ]
  },
  {
   "cell_type": "code",
   "execution_count": 2,
   "metadata": {},
   "outputs": [],
   "source": [
    "csv_folder_name = \"ac-dc-meshed/ac-dc-data/\"\n",
    "network = pypsa.Network(csv_folder_name=csv_folder_name)"
   ]
  },
  {
   "cell_type": "code",
   "execution_count": 3,
   "metadata": {},
   "outputs": [],
   "source": [
    "out = network.lopf()"
   ]
  },
  {
   "cell_type": "code",
   "execution_count": 4,
   "metadata": {},
   "outputs": [],
   "source": [
    "out = network.lpf()"
   ]
  },
  {
   "cell_type": "code",
   "execution_count": 5,
   "metadata": {},
   "outputs": [],
   "source": [
    "#now turn on warnings just for OPF module\n",
    "pypsa.opf.logger.setLevel(logging.WARNING)"
   ]
  },
  {
   "cell_type": "code",
   "execution_count": 6,
   "metadata": {},
   "outputs": [],
   "source": [
    "out = network.lopf()"
   ]
  },
  {
   "cell_type": "code",
   "execution_count": 7,
   "metadata": {},
   "outputs": [],
   "source": [
    "#now turn on all messages for the PF module\n",
    "pypsa.pf.logger.setLevel(logging.DEBUG)"
   ]
  },
  {
   "cell_type": "code",
   "execution_count": 8,
   "metadata": {},
   "outputs": [
    {
     "name": "stderr",
     "output_type": "stream",
     "text": [
      "DEBUG:pypsa.pf:Slack bus for sub-network 0 is Manchester\n",
      "DEBUG:pypsa.pf:Slack bus for sub-network 1 is Norwich DC\n",
      "DEBUG:pypsa.pf:Slack bus for sub-network 2 is Frankfurt\n",
      "DEBUG:pypsa.pf:Slack bus for sub-network 3 is Norway\n",
      "DEBUG:pypsa.pf:Slack bus for sub-network 0 is Manchester\n",
      "INFO:pypsa.pf:Performing linear load-flow on AC sub-network SubNetwork 0 for snapshot(s) DatetimeIndex(['2015-01-01 00:00:00', '2015-01-01 01:00:00',\n",
      "               '2015-01-01 02:00:00', '2015-01-01 03:00:00',\n",
      "               '2015-01-01 04:00:00', '2015-01-01 05:00:00',\n",
      "               '2015-01-01 06:00:00', '2015-01-01 07:00:00',\n",
      "               '2015-01-01 08:00:00', '2015-01-01 09:00:00'],\n",
      "              dtype='datetime64[ns]', name='name', freq=None)\n",
      "DEBUG:pypsa.pf:Slack bus for sub-network 1 is Norwich DC\n",
      "INFO:pypsa.pf:Performing linear load-flow on DC sub-network SubNetwork 1 for snapshot(s) DatetimeIndex(['2015-01-01 00:00:00', '2015-01-01 01:00:00',\n",
      "               '2015-01-01 02:00:00', '2015-01-01 03:00:00',\n",
      "               '2015-01-01 04:00:00', '2015-01-01 05:00:00',\n",
      "               '2015-01-01 06:00:00', '2015-01-01 07:00:00',\n",
      "               '2015-01-01 08:00:00', '2015-01-01 09:00:00'],\n",
      "              dtype='datetime64[ns]', name='name', freq=None)\n",
      "DEBUG:pypsa.pf:Slack bus for sub-network 2 is Frankfurt\n",
      "INFO:pypsa.pf:Performing linear load-flow on AC sub-network SubNetwork 2 for snapshot(s) DatetimeIndex(['2015-01-01 00:00:00', '2015-01-01 01:00:00',\n",
      "               '2015-01-01 02:00:00', '2015-01-01 03:00:00',\n",
      "               '2015-01-01 04:00:00', '2015-01-01 05:00:00',\n",
      "               '2015-01-01 06:00:00', '2015-01-01 07:00:00',\n",
      "               '2015-01-01 08:00:00', '2015-01-01 09:00:00'],\n",
      "              dtype='datetime64[ns]', name='name', freq=None)\n",
      "DEBUG:pypsa.pf:Slack bus for sub-network 3 is Norway\n",
      "INFO:pypsa.pf:Performing linear load-flow on AC sub-network SubNetwork 3 for snapshot(s) DatetimeIndex(['2015-01-01 00:00:00', '2015-01-01 01:00:00',\n",
      "               '2015-01-01 02:00:00', '2015-01-01 03:00:00',\n",
      "               '2015-01-01 04:00:00', '2015-01-01 05:00:00',\n",
      "               '2015-01-01 06:00:00', '2015-01-01 07:00:00',\n",
      "               '2015-01-01 08:00:00', '2015-01-01 09:00:00'],\n",
      "              dtype='datetime64[ns]', name='name', freq=None)\n"
     ]
    }
   ],
   "source": [
    "out = network.lpf()"
   ]
  },
  {
   "cell_type": "code",
   "execution_count": 9,
   "metadata": {},
   "outputs": [],
   "source": [
    "#now turn off all messages for the PF module again\n",
    "pypsa.pf.logger.setLevel(logging.ERROR)"
   ]
  },
  {
   "cell_type": "code",
   "execution_count": 11,
   "metadata": {},
   "outputs": [],
   "source": [
    "out = network.lpf()"
   ]
  },
  {
   "cell_type": "code",
   "execution_count": null,
   "metadata": {},
   "outputs": [],
   "source": []
  },
  {
   "cell_type": "code",
   "execution_count": null,
   "metadata": {},
   "outputs": [],
   "source": []
  }
 ],
 "metadata": {
  "kernelspec": {
   "display_name": "Python 3",
   "language": "python",
   "name": "python3"
  },
  "language_info": {
   "codemirror_mode": {
    "name": "ipython",
    "version": 3
   },
   "file_extension": ".py",
   "mimetype": "text/x-python",
   "name": "python",
   "nbconvert_exporter": "python",
   "pygments_lexer": "ipython3",
   "version": "3.6.9"
  }
 },
 "nbformat": 4,
 "nbformat_minor": 1
}
