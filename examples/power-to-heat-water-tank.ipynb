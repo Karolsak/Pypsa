{
 "cells": [
  {
   "cell_type": "markdown",
   "metadata": {},
   "source": [
    "# Heat demand provided by a wind turbine, heat pump and water tank\n",
    "\n",
    "The water tank stores hot water with a standing loss."
   ]
  },
  {
   "cell_type": "code",
   "execution_count": 1,
   "metadata": {
    "collapsed": true
   },
   "outputs": [],
   "source": [
    "import pypsa\n",
    "import pandas as pd\n",
    "\n",
    "from pyomo.environ import Constraint"
   ]
  },
  {
   "cell_type": "code",
   "execution_count": 2,
   "metadata": {},
   "outputs": [
    {
     "name": "stderr",
     "output_type": "stream",
     "text": [
      "WARNING:pypsa.components:Attribute network.now is not in newly-defined snapshots. (network.now is only relevant if you call e.g. network.pf() without specifying snapshots.)\n"
     ]
    }
   ],
   "source": [
    "\n",
    "network = pypsa.Network()\n",
    "\n",
    "network.set_snapshots(pd.date_range(\"2016-01-01 00:00\",\"2016-01-01 03:00\",freq=\"H\"))\n",
    "\n",
    "network.add(\"Bus\",\n",
    "            \"0\",\n",
    "            carrier=\"AC\")\n",
    "\n",
    "network.add(\"Bus\",\n",
    "            \"0 heat\",\n",
    "            carrier=\"heat\")\n",
    "\n",
    "network.add(\"Carrier\",\n",
    "            \"wind\")\n",
    "    \n",
    "network.add(\"Carrier\",\n",
    "            \"heat\")\n",
    "\n",
    "network.add(\"Generator\",\n",
    "            \"wind turbine\",\n",
    "            bus=\"0\",\n",
    "            carrier=\"wind\",\n",
    "            p_nom_extendable=True,\n",
    "            p_max_pu=[0.,0.2,0.7,0.4],\n",
    "            capital_cost=500)\n",
    "\n",
    "network.add(\"Load\",\n",
    "            \"heat demand\",\n",
    "            bus=\"0 heat\",\n",
    "            p_set=20.)\n",
    "\n",
    "#NB: Heat pump has changing efficiency (properly the Coefficient of Performance, COP)\n",
    "#due to changing ambient temperature\n",
    "network.add(\"Link\",\n",
    "            \"heat pump\",\n",
    "            bus0=\"0\",\n",
    "            bus1=\"0 heat\",\n",
    "            efficiency=[2.5,3.,3.2,3.],\n",
    "            capital_cost=1000,\n",
    "            p_nom_extendable=True)\n",
    "    \n",
    "network.add(\"Store\",\n",
    "            \"water tank\",\n",
    "            bus=\"0 heat\",\n",
    "            e_cyclic=True,\n",
    "            e_nom_extendable=True,\n",
    "            standing_loss=0.01)    \n"
   ]
  },
  {
   "cell_type": "code",
   "execution_count": 3,
   "metadata": {},
   "outputs": [
    {
     "name": "stderr",
     "output_type": "stream",
     "text": [
      "INFO:pypsa.pf:Slack bus for sub-network 0 is 0\n",
      "WARNING:pypsa.pf:No generators in sub-network 1, better hope power is already balanced\n",
      "INFO:pypsa.pf:Slack bus for sub-network 1 is 0 heat\n",
      "INFO:pypsa.opf:Performed preliminary steps\n",
      "INFO:pypsa.opf:Building pyomo model using `angles` formulation\n",
      "INFO:pypsa.opf:Solving model using glpk\n",
      "INFO:pypsa.opf:Optimization successful\n"
     ]
    },
    {
     "data": {
      "text/plain": [
       "('ok', 'optimal')"
      ]
     },
     "execution_count": 3,
     "metadata": {},
     "output_type": "execute_result"
    }
   ],
   "source": [
    "network.lopf(network.snapshots)"
   ]
  },
  {
   "cell_type": "code",
   "execution_count": 4,
   "metadata": {},
   "outputs": [
    {
     "name": "stdout",
     "output_type": "stream",
     "text": [
      "                             e          p\n",
      "2016-01-01 00:00:00   4.376710  20.000000\n",
      "2016-01-01 01:00:00   0.000000   4.332943\n",
      "2016-01-01 02:00:00  13.423055 -13.423055\n",
      "2016-01-01 03:00:00  24.622939 -11.334114\n"
     ]
    }
   ],
   "source": [
    "print(pd.DataFrame({attr: network.stores_t[attr][\"water tank\"] for attr in [\"p\",\"e\"]}))"
   ]
  },
  {
   "cell_type": "code",
   "execution_count": 5,
   "metadata": {},
   "outputs": [
    {
     "name": "stdout",
     "output_type": "stream",
     "text": [
      "                            p0         p1\n",
      "2016-01-01 00:00:00   0.000000  -0.000000\n",
      "2016-01-01 01:00:00   5.222352 -15.667057\n",
      "2016-01-01 02:00:00  10.444705 -33.423055\n",
      "2016-01-01 03:00:00  10.444705 -31.334114\n"
     ]
    }
   ],
   "source": [
    "print(pd.DataFrame({attr: network.links_t[attr][\"heat pump\"] for attr in [\"p0\",\"p1\"]}))"
   ]
  },
  {
   "cell_type": "code",
   "execution_count": 6,
   "metadata": {},
   "outputs": [
    {
     "name": "stdout",
     "output_type": "stream",
     "text": [
      "attribute\n",
      "bus                  0 heat\n",
      "e_nom                     0\n",
      "e_nom_extendable       True\n",
      "e_nom_min                 0\n",
      "e_nom_max               inf\n",
      "e_min_pu                  0\n",
      "e_max_pu                  1\n",
      "e_initial                 0\n",
      "e_cyclic               True\n",
      "p_set                     0\n",
      "q_set                     0\n",
      "sign                      1\n",
      "marginal_cost             0\n",
      "capital_cost              0\n",
      "standing_loss          0.01\n",
      "e_nom_opt           24.6229\n",
      "Name: water tank, dtype: object\n"
     ]
    }
   ],
   "source": [
    "print(network.stores.loc[\"water tank\"])"
   ]
  },
  {
   "cell_type": "code",
   "execution_count": 7,
   "metadata": {},
   "outputs": [
    {
     "name": "stdout",
     "output_type": "stream",
     "text": [
      "attribute\n",
      "bus                       0\n",
      "control               Slack\n",
      "p_nom                     0\n",
      "p_nom_extendable       True\n",
      "p_nom_min                 0\n",
      "p_nom_max               inf\n",
      "p_min_pu                  0\n",
      "p_max_pu                  1\n",
      "p_set                     0\n",
      "q_set                     0\n",
      "sign                      1\n",
      "carrier                wind\n",
      "marginal_cost             0\n",
      "capital_cost            500\n",
      "efficiency                1\n",
      "p_nom_opt           26.1118\n",
      "Name: wind turbine, dtype: object\n"
     ]
    }
   ],
   "source": [
    "print(network.generators.loc[\"wind turbine\"])"
   ]
  }
 ],
 "metadata": {
  "kernelspec": {
   "display_name": "Python 3",
   "language": "python",
   "name": "python3"
  },
  "language_info": {
   "codemirror_mode": {
    "name": "ipython",
    "version": 3
   },
   "file_extension": ".py",
   "mimetype": "text/x-python",
   "name": "python",
   "nbconvert_exporter": "python",
   "pygments_lexer": "ipython3",
   "version": "3.6.9"
  }
 },
 "nbformat": 4,
 "nbformat_minor": 1
}
