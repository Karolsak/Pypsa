{
 "cells": [
  {
   "cell_type": "markdown",
   "metadata": {},
   "source": [
    "# Heat demand provided by a wind turbine, heat pump and water tank\n",
    "\n",
    "The water tank stores hot water with a standing loss."
   ]
  },
  {
   "cell_type": "code",
   "execution_count": null,
   "metadata": {},
   "outputs": [],
   "source": [
    "import pypsa\n",
    "import pandas as pd\n",
    "\n",
    "from pyomo.environ import Constraint"
   ]
  },
  {
   "cell_type": "code",
   "execution_count": null,
   "metadata": {},
   "outputs": [],
   "source": [
    "\n",
    "network = pypsa.Network()\n",
    "\n",
    "network.set_snapshots(pd.date_range(\"2016-01-01 00:00\",\"2016-01-01 03:00\",freq=\"H\"))\n",
    "\n",
    "network.add(\"Bus\",\n",
    "            \"0\",\n",
    "            carrier=\"AC\")\n",
    "\n",
    "network.add(\"Bus\",\n",
    "            \"0 heat\",\n",
    "            carrier=\"heat\")\n",
    "\n",
    "network.add(\"Carrier\",\n",
    "            \"wind\")\n",
    "    \n",
    "network.add(\"Carrier\",\n",
    "            \"heat\")\n",
    "\n",
    "network.add(\"Generator\",\n",
    "            \"wind turbine\",\n",
    "            bus=\"0\",\n",
    "            carrier=\"wind\",\n",
    "            p_nom_extendable=True,\n",
    "            p_max_pu=[0.,0.2,0.7,0.4],\n",
    "            capital_cost=500)\n",
    "\n",
    "network.add(\"Load\",\n",
    "            \"heat demand\",\n",
    "            bus=\"0 heat\",\n",
    "            p_set=20.)\n",
    "\n",
    "#NB: Heat pump has changing efficiency (properly the Coefficient of Performance, COP)\n",
    "#due to changing ambient temperature\n",
    "network.add(\"Link\",\n",
    "            \"heat pump\",\n",
    "            bus0=\"0\",\n",
    "            bus1=\"0 heat\",\n",
    "            efficiency=[2.5,3.,3.2,3.],\n",
    "            capital_cost=1000,\n",
    "            p_nom_extendable=True)\n",
    "    \n",
    "network.add(\"Store\",\n",
    "            \"water tank\",\n",
    "            bus=\"0 heat\",\n",
    "            e_cyclic=True,\n",
    "            e_nom_extendable=True,\n",
    "            standing_loss=0.01)    \n"
   ]
  },
  {
   "cell_type": "code",
   "execution_count": null,
   "metadata": {},
   "outputs": [],
   "source": [
    "network.lopf(network.snapshots)"
   ]
  },
  {
   "cell_type": "code",
   "execution_count": null,
   "metadata": {},
   "outputs": [],
   "source": [
    "print(pd.DataFrame({attr: network.stores_t[attr][\"water tank\"] for attr in [\"p\",\"e\"]}))"
   ]
  },
  {
   "cell_type": "code",
   "execution_count": null,
   "metadata": {},
   "outputs": [],
   "source": [
    "print(pd.DataFrame({attr: network.links_t[attr][\"heat pump\"] for attr in [\"p0\",\"p1\"]}))"
   ]
  },
  {
   "cell_type": "code",
   "execution_count": null,
   "metadata": {},
   "outputs": [],
   "source": [
    "print(network.stores.loc[\"water tank\"])"
   ]
  },
  {
   "cell_type": "code",
   "execution_count": null,
   "metadata": {},
   "outputs": [],
   "source": [
    "print(network.generators.loc[\"wind turbine\"])"
   ]
  }
 ],
 "metadata": {
  "kernelspec": {
   "display_name": "Python 3",
   "language": "python",
   "name": "python3"
  },
  "language_info": {
   "codemirror_mode": {
    "name": "ipython",
    "version": 3
   },
   "file_extension": ".py",
   "mimetype": "text/x-python",
   "name": "python",
   "nbconvert_exporter": "python",
   "pygments_lexer": "ipython3",
   "version": "3.6.9"
  }
 },
 "nbformat": 4,
 "nbformat_minor": 1
}
